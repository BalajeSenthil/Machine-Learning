{
  "nbformat": 4,
  "nbformat_minor": 0,
  "metadata": {
    "colab": {
      "name": "Logistic Regression-Iris.ipynb",
      "provenance": [],
      "collapsed_sections": []
    },
    "kernelspec": {
      "display_name": "Python 3",
      "language": "python",
      "name": "python3"
    },
    "language_info": {
      "codemirror_mode": {
        "name": "ipython",
        "version": 3
      },
      "file_extension": ".py",
      "mimetype": "text/x-python",
      "name": "python",
      "nbconvert_exporter": "python",
      "pygments_lexer": "ipython3",
      "version": "3.7.4"
    }
  },
  "cells": [
    {
      "cell_type": "markdown",
      "metadata": {
        "colab_type": "text",
        "id": "7eiDWcM_MC3H"
      },
      "source": [
        "** <font color='Orange'>Logistic Regression using NumPy</font>**"
      ]
    },
    {
      "cell_type": "markdown",
      "metadata": {
        "colab_type": "text",
        "id": "Fk5DSPCLxqT-"
      },
      "source": [
        "<font color='red'> Importing packages</font>"
      ]
    },
    {
      "cell_type": "code",
      "metadata": {
        "colab_type": "code",
        "id": "42Et8BKIxnsp",
        "colab": {}
      },
      "source": [
        "import numpy as np\n",
        "import pandas as pd\n",
        "\n",
        "from sklearn.model_selection import train_test_split\n",
        "from sklearn import linear_model\n",
        "\n",
        "from tqdm import tqdm\n",
        "\n",
        "import matplotlib.pyplot as plt\n",
        "\n",
        "import warnings\n",
        "warnings.filterwarnings(\"ignore\")"
      ],
      "execution_count": 1,
      "outputs": []
    },
    {
      "cell_type": "code",
      "metadata": {
        "colab_type": "code",
        "id": "BsMp0oWzx6dv",
        "colab": {
          "base_uri": "https://localhost:8080/",
          "height": 121
        },
        "outputId": "d20d9bb9-eea5-402f-c35d-f46d1bc6a97e"
      },
      "source": [
        "#Code to run on G-colab\n",
        "\n",
        "from google.colab import drive\n",
        "drive.mount('/content/drive')"
      ],
      "execution_count": 2,
      "outputs": [
        {
          "output_type": "stream",
          "text": [
            "Go to this URL in a browser: https://accounts.google.com/o/oauth2/auth?client_id=947318989803-6bn6qk8qdgf4n4g3pfee6491hc0brc4i.apps.googleusercontent.com&redirect_uri=urn%3aietf%3awg%3aoauth%3a2.0%3aoob&response_type=code&scope=email%20https%3a%2f%2fwww.googleapis.com%2fauth%2fdocs.test%20https%3a%2f%2fwww.googleapis.com%2fauth%2fdrive%20https%3a%2f%2fwww.googleapis.com%2fauth%2fdrive.photos.readonly%20https%3a%2f%2fwww.googleapis.com%2fauth%2fpeopleapi.readonly\n",
            "\n",
            "Enter your authorization code:\n",
            "··········\n",
            "Mounted at /content/drive\n"
          ],
          "name": "stdout"
        }
      ]
    },
    {
      "cell_type": "code",
      "metadata": {
        "colab_type": "code",
        "id": "L8W2fg1cyGdX",
        "colab": {
          "base_uri": "https://localhost:8080/",
          "height": 34
        },
        "outputId": "26a15042-fbf8-4e6d-ecaa-9727be818a31"
      },
      "source": [
        "#code to run only on G-colab \n",
        "gcolab_project_path = '/content/drive/My Drive/AAI/Assignment/Dataset/'\n",
        "gcolab_project_path"
      ],
      "execution_count": 3,
      "outputs": [
        {
          "output_type": "execute_result",
          "data": {
            "text/plain": [
              "'/content/drive/My Drive/AAI/Assignment/Dataset/'"
            ]
          },
          "metadata": {
            "tags": []
          },
          "execution_count": 3
        }
      ]
    },
    {
      "cell_type": "code",
      "metadata": {
        "id": "3Z7kUsYpVIhM",
        "colab_type": "code",
        "colab": {}
      },
      "source": [
        "#Code to run on G-colab\n",
        "df_iris = pd.read_csv(gcolab_project_path+'IRIS.csv')"
      ],
      "execution_count": 4,
      "outputs": []
    },
    {
      "cell_type": "code",
      "metadata": {
        "id": "BMcKwF5MVPB0",
        "colab_type": "code",
        "colab": {
          "base_uri": "https://localhost:8080/",
          "height": 195
        },
        "outputId": "0f36f71b-1b1d-4349-805e-dca5976de6f9"
      },
      "source": [
        "df_iris.head()"
      ],
      "execution_count": 5,
      "outputs": [
        {
          "output_type": "execute_result",
          "data": {
            "text/html": [
              "<div>\n",
              "<style scoped>\n",
              "    .dataframe tbody tr th:only-of-type {\n",
              "        vertical-align: middle;\n",
              "    }\n",
              "\n",
              "    .dataframe tbody tr th {\n",
              "        vertical-align: top;\n",
              "    }\n",
              "\n",
              "    .dataframe thead th {\n",
              "        text-align: right;\n",
              "    }\n",
              "</style>\n",
              "<table border=\"1\" class=\"dataframe\">\n",
              "  <thead>\n",
              "    <tr style=\"text-align: right;\">\n",
              "      <th></th>\n",
              "      <th>sepal_length</th>\n",
              "      <th>sepal_width</th>\n",
              "      <th>petal_length</th>\n",
              "      <th>petal_width</th>\n",
              "      <th>species</th>\n",
              "    </tr>\n",
              "  </thead>\n",
              "  <tbody>\n",
              "    <tr>\n",
              "      <th>0</th>\n",
              "      <td>5.1</td>\n",
              "      <td>3.5</td>\n",
              "      <td>1.4</td>\n",
              "      <td>0.2</td>\n",
              "      <td>Iris-setosa</td>\n",
              "    </tr>\n",
              "    <tr>\n",
              "      <th>1</th>\n",
              "      <td>4.9</td>\n",
              "      <td>3.0</td>\n",
              "      <td>1.4</td>\n",
              "      <td>0.2</td>\n",
              "      <td>Iris-setosa</td>\n",
              "    </tr>\n",
              "    <tr>\n",
              "      <th>2</th>\n",
              "      <td>4.7</td>\n",
              "      <td>3.2</td>\n",
              "      <td>1.3</td>\n",
              "      <td>0.2</td>\n",
              "      <td>Iris-setosa</td>\n",
              "    </tr>\n",
              "    <tr>\n",
              "      <th>3</th>\n",
              "      <td>4.6</td>\n",
              "      <td>3.1</td>\n",
              "      <td>1.5</td>\n",
              "      <td>0.2</td>\n",
              "      <td>Iris-setosa</td>\n",
              "    </tr>\n",
              "    <tr>\n",
              "      <th>4</th>\n",
              "      <td>5.0</td>\n",
              "      <td>3.6</td>\n",
              "      <td>1.4</td>\n",
              "      <td>0.2</td>\n",
              "      <td>Iris-setosa</td>\n",
              "    </tr>\n",
              "  </tbody>\n",
              "</table>\n",
              "</div>"
            ],
            "text/plain": [
              "   sepal_length  sepal_width  petal_length  petal_width      species\n",
              "0           5.1          3.5           1.4          0.2  Iris-setosa\n",
              "1           4.9          3.0           1.4          0.2  Iris-setosa\n",
              "2           4.7          3.2           1.3          0.2  Iris-setosa\n",
              "3           4.6          3.1           1.5          0.2  Iris-setosa\n",
              "4           5.0          3.6           1.4          0.2  Iris-setosa"
            ]
          },
          "metadata": {
            "tags": []
          },
          "execution_count": 5
        }
      ]
    },
    {
      "cell_type": "code",
      "metadata": {
        "id": "deNhMZRlm2TY",
        "colab_type": "code",
        "colab": {
          "base_uri": "https://localhost:8080/",
          "height": 195
        },
        "outputId": "74d2c62b-387f-4623-9f43-ea6441770cad"
      },
      "source": [
        "#Sort 'species' column by descending order to classify the target into \n",
        "#binary classification such as virginica and Non-virginica.\n",
        "\n",
        "df_iris.sort_values(by=['species'], ascending=False, inplace=True)\n",
        "df_iris.head()"
      ],
      "execution_count": 6,
      "outputs": [
        {
          "output_type": "execute_result",
          "data": {
            "text/html": [
              "<div>\n",
              "<style scoped>\n",
              "    .dataframe tbody tr th:only-of-type {\n",
              "        vertical-align: middle;\n",
              "    }\n",
              "\n",
              "    .dataframe tbody tr th {\n",
              "        vertical-align: top;\n",
              "    }\n",
              "\n",
              "    .dataframe thead th {\n",
              "        text-align: right;\n",
              "    }\n",
              "</style>\n",
              "<table border=\"1\" class=\"dataframe\">\n",
              "  <thead>\n",
              "    <tr style=\"text-align: right;\">\n",
              "      <th></th>\n",
              "      <th>sepal_length</th>\n",
              "      <th>sepal_width</th>\n",
              "      <th>petal_length</th>\n",
              "      <th>petal_width</th>\n",
              "      <th>species</th>\n",
              "    </tr>\n",
              "  </thead>\n",
              "  <tbody>\n",
              "    <tr>\n",
              "      <th>149</th>\n",
              "      <td>5.9</td>\n",
              "      <td>3.0</td>\n",
              "      <td>5.1</td>\n",
              "      <td>1.8</td>\n",
              "      <td>Iris-virginica</td>\n",
              "    </tr>\n",
              "    <tr>\n",
              "      <th>111</th>\n",
              "      <td>6.4</td>\n",
              "      <td>2.7</td>\n",
              "      <td>5.3</td>\n",
              "      <td>1.9</td>\n",
              "      <td>Iris-virginica</td>\n",
              "    </tr>\n",
              "    <tr>\n",
              "      <th>122</th>\n",
              "      <td>7.7</td>\n",
              "      <td>2.8</td>\n",
              "      <td>6.7</td>\n",
              "      <td>2.0</td>\n",
              "      <td>Iris-virginica</td>\n",
              "    </tr>\n",
              "    <tr>\n",
              "      <th>121</th>\n",
              "      <td>5.6</td>\n",
              "      <td>2.8</td>\n",
              "      <td>4.9</td>\n",
              "      <td>2.0</td>\n",
              "      <td>Iris-virginica</td>\n",
              "    </tr>\n",
              "    <tr>\n",
              "      <th>120</th>\n",
              "      <td>6.9</td>\n",
              "      <td>3.2</td>\n",
              "      <td>5.7</td>\n",
              "      <td>2.3</td>\n",
              "      <td>Iris-virginica</td>\n",
              "    </tr>\n",
              "  </tbody>\n",
              "</table>\n",
              "</div>"
            ],
            "text/plain": [
              "     sepal_length  sepal_width  petal_length  petal_width         species\n",
              "149           5.9          3.0           5.1          1.8  Iris-virginica\n",
              "111           6.4          2.7           5.3          1.9  Iris-virginica\n",
              "122           7.7          2.8           6.7          2.0  Iris-virginica\n",
              "121           5.6          2.8           4.9          2.0  Iris-virginica\n",
              "120           6.9          3.2           5.7          2.3  Iris-virginica"
            ]
          },
          "metadata": {
            "tags": []
          },
          "execution_count": 6
        }
      ]
    },
    {
      "cell_type": "code",
      "metadata": {
        "id": "8kKiXglYpq64",
        "colab_type": "code",
        "colab": {
          "base_uri": "https://localhost:8080/",
          "height": 1000
        },
        "outputId": "21dc210c-1dd1-4828-92de-f0ab703521c7"
      },
      "source": [
        "#glimpse of presence of species column\n",
        "df_iris.species[0:49], df_iris.species[50:99], df_iris.species[100:]"
      ],
      "execution_count": 7,
      "outputs": [
        {
          "output_type": "execute_result",
          "data": {
            "text/plain": [
              "(149    Iris-virginica\n",
              " 111    Iris-virginica\n",
              " 122    Iris-virginica\n",
              " 121    Iris-virginica\n",
              " 120    Iris-virginica\n",
              " 119    Iris-virginica\n",
              " 118    Iris-virginica\n",
              " 117    Iris-virginica\n",
              " 116    Iris-virginica\n",
              " 115    Iris-virginica\n",
              " 114    Iris-virginica\n",
              " 112    Iris-virginica\n",
              " 110    Iris-virginica\n",
              " 124    Iris-virginica\n",
              " 109    Iris-virginica\n",
              " 108    Iris-virginica\n",
              " 107    Iris-virginica\n",
              " 106    Iris-virginica\n",
              " 105    Iris-virginica\n",
              " 104    Iris-virginica\n",
              " 103    Iris-virginica\n",
              " 102    Iris-virginica\n",
              " 101    Iris-virginica\n",
              " 100    Iris-virginica\n",
              " 123    Iris-virginica\n",
              " 113    Iris-virginica\n",
              " 125    Iris-virginica\n",
              " 137    Iris-virginica\n",
              " 126    Iris-virginica\n",
              " 147    Iris-virginica\n",
              " 146    Iris-virginica\n",
              " 145    Iris-virginica\n",
              " 144    Iris-virginica\n",
              " 143    Iris-virginica\n",
              " 142    Iris-virginica\n",
              " 141    Iris-virginica\n",
              " 140    Iris-virginica\n",
              " 139    Iris-virginica\n",
              " 138    Iris-virginica\n",
              " 148    Iris-virginica\n",
              " 136    Iris-virginica\n",
              " 131    Iris-virginica\n",
              " 128    Iris-virginica\n",
              " 129    Iris-virginica\n",
              " 130    Iris-virginica\n",
              " 127    Iris-virginica\n",
              " 132    Iris-virginica\n",
              " 133    Iris-virginica\n",
              " 134    Iris-virginica\n",
              " Name: species, dtype: object, 88    Iris-versicolor\n",
              " 78    Iris-versicolor\n",
              " 79    Iris-versicolor\n",
              " 80    Iris-versicolor\n",
              " 81    Iris-versicolor\n",
              " 82    Iris-versicolor\n",
              " 83    Iris-versicolor\n",
              " 84    Iris-versicolor\n",
              " 85    Iris-versicolor\n",
              " 86    Iris-versicolor\n",
              " 87    Iris-versicolor\n",
              " 93    Iris-versicolor\n",
              " 89    Iris-versicolor\n",
              " 90    Iris-versicolor\n",
              " 91    Iris-versicolor\n",
              " 92    Iris-versicolor\n",
              " 76    Iris-versicolor\n",
              " 94    Iris-versicolor\n",
              " 95    Iris-versicolor\n",
              " 96    Iris-versicolor\n",
              " 97    Iris-versicolor\n",
              " 98    Iris-versicolor\n",
              " 99    Iris-versicolor\n",
              " 77    Iris-versicolor\n",
              " 75    Iris-versicolor\n",
              " 50    Iris-versicolor\n",
              " 62    Iris-versicolor\n",
              " 51    Iris-versicolor\n",
              " 52    Iris-versicolor\n",
              " 53    Iris-versicolor\n",
              " 54    Iris-versicolor\n",
              " 55    Iris-versicolor\n",
              " 56    Iris-versicolor\n",
              " 74    Iris-versicolor\n",
              " 58    Iris-versicolor\n",
              " 59    Iris-versicolor\n",
              " 60    Iris-versicolor\n",
              " 61    Iris-versicolor\n",
              " 57    Iris-versicolor\n",
              " 63    Iris-versicolor\n",
              " 65    Iris-versicolor\n",
              " 66    Iris-versicolor\n",
              " 67    Iris-versicolor\n",
              " 68    Iris-versicolor\n",
              " 69    Iris-versicolor\n",
              " 70    Iris-versicolor\n",
              " 71    Iris-versicolor\n",
              " 72    Iris-versicolor\n",
              " 73    Iris-versicolor\n",
              " Name: species, dtype: object, 18    Iris-setosa\n",
              " 14    Iris-setosa\n",
              " 15    Iris-setosa\n",
              " 16    Iris-setosa\n",
              " 17    Iris-setosa\n",
              " 23    Iris-setosa\n",
              " 19    Iris-setosa\n",
              " 20    Iris-setosa\n",
              " 21    Iris-setosa\n",
              " 22    Iris-setosa\n",
              " 13    Iris-setosa\n",
              " 1     Iris-setosa\n",
              " 12    Iris-setosa\n",
              " 11    Iris-setosa\n",
              " 10    Iris-setosa\n",
              " 9     Iris-setosa\n",
              " 8     Iris-setosa\n",
              " 7     Iris-setosa\n",
              " 6     Iris-setosa\n",
              " 5     Iris-setosa\n",
              " 4     Iris-setosa\n",
              " 3     Iris-setosa\n",
              " 2     Iris-setosa\n",
              " 25    Iris-setosa\n",
              " 24    Iris-setosa\n",
              " 38    Iris-setosa\n",
              " 26    Iris-setosa\n",
              " 27    Iris-setosa\n",
              " 49    Iris-setosa\n",
              " 48    Iris-setosa\n",
              " 47    Iris-setosa\n",
              " 46    Iris-setosa\n",
              " 45    Iris-setosa\n",
              " 44    Iris-setosa\n",
              " 43    Iris-setosa\n",
              " 42    Iris-setosa\n",
              " 41    Iris-setosa\n",
              " 40    Iris-setosa\n",
              " 39    Iris-setosa\n",
              " 37    Iris-setosa\n",
              " 36    Iris-setosa\n",
              " 35    Iris-setosa\n",
              " 34    Iris-setosa\n",
              " 33    Iris-setosa\n",
              " 32    Iris-setosa\n",
              " 31    Iris-setosa\n",
              " 30    Iris-setosa\n",
              " 29    Iris-setosa\n",
              " 28    Iris-setosa\n",
              " 0     Iris-setosa\n",
              " Name: species, dtype: object)"
            ]
          },
          "metadata": {
            "tags": []
          },
          "execution_count": 7
        }
      ]
    },
    {
      "cell_type": "code",
      "metadata": {
        "id": "-ICQ467qqtqz",
        "colab_type": "code",
        "colab": {}
      },
      "source": [
        "#Encoding Virginica to 1 and rest of species as Non-virginica to 0\n",
        "\n",
        "virginica = [1 for i in range(50)]  #1st 50 dataset is virginica\n",
        "non_virginica = [0 for i in range(100)] #final 100 dataset is non-virginica"
      ],
      "execution_count": 8,
      "outputs": []
    },
    {
      "cell_type": "code",
      "metadata": {
        "id": "qVG_15dfrTyZ",
        "colab_type": "code",
        "colab": {}
      },
      "source": [
        "#concatenate the newly encoded values \n",
        "y = np.concatenate([virginica,non_virginica ])"
      ],
      "execution_count": 9,
      "outputs": []
    },
    {
      "cell_type": "code",
      "metadata": {
        "id": "Tx3hAo1ire7A",
        "colab_type": "code",
        "colab": {
          "base_uri": "https://localhost:8080/",
          "height": 195
        },
        "outputId": "2ff694c8-57be-49b3-d9f3-df8f52f71df8"
      },
      "source": [
        "#Replaces existing species column with the newly encoded y values\n",
        "df_iris['species'] = y\n",
        "df_iris.head()"
      ],
      "execution_count": 10,
      "outputs": [
        {
          "output_type": "execute_result",
          "data": {
            "text/html": [
              "<div>\n",
              "<style scoped>\n",
              "    .dataframe tbody tr th:only-of-type {\n",
              "        vertical-align: middle;\n",
              "    }\n",
              "\n",
              "    .dataframe tbody tr th {\n",
              "        vertical-align: top;\n",
              "    }\n",
              "\n",
              "    .dataframe thead th {\n",
              "        text-align: right;\n",
              "    }\n",
              "</style>\n",
              "<table border=\"1\" class=\"dataframe\">\n",
              "  <thead>\n",
              "    <tr style=\"text-align: right;\">\n",
              "      <th></th>\n",
              "      <th>sepal_length</th>\n",
              "      <th>sepal_width</th>\n",
              "      <th>petal_length</th>\n",
              "      <th>petal_width</th>\n",
              "      <th>species</th>\n",
              "    </tr>\n",
              "  </thead>\n",
              "  <tbody>\n",
              "    <tr>\n",
              "      <th>149</th>\n",
              "      <td>5.9</td>\n",
              "      <td>3.0</td>\n",
              "      <td>5.1</td>\n",
              "      <td>1.8</td>\n",
              "      <td>1</td>\n",
              "    </tr>\n",
              "    <tr>\n",
              "      <th>111</th>\n",
              "      <td>6.4</td>\n",
              "      <td>2.7</td>\n",
              "      <td>5.3</td>\n",
              "      <td>1.9</td>\n",
              "      <td>1</td>\n",
              "    </tr>\n",
              "    <tr>\n",
              "      <th>122</th>\n",
              "      <td>7.7</td>\n",
              "      <td>2.8</td>\n",
              "      <td>6.7</td>\n",
              "      <td>2.0</td>\n",
              "      <td>1</td>\n",
              "    </tr>\n",
              "    <tr>\n",
              "      <th>121</th>\n",
              "      <td>5.6</td>\n",
              "      <td>2.8</td>\n",
              "      <td>4.9</td>\n",
              "      <td>2.0</td>\n",
              "      <td>1</td>\n",
              "    </tr>\n",
              "    <tr>\n",
              "      <th>120</th>\n",
              "      <td>6.9</td>\n",
              "      <td>3.2</td>\n",
              "      <td>5.7</td>\n",
              "      <td>2.3</td>\n",
              "      <td>1</td>\n",
              "    </tr>\n",
              "  </tbody>\n",
              "</table>\n",
              "</div>"
            ],
            "text/plain": [
              "     sepal_length  sepal_width  petal_length  petal_width  species\n",
              "149           5.9          3.0           5.1          1.8        1\n",
              "111           6.4          2.7           5.3          1.9        1\n",
              "122           7.7          2.8           6.7          2.0        1\n",
              "121           5.6          2.8           4.9          2.0        1\n",
              "120           6.9          3.2           5.7          2.3        1"
            ]
          },
          "metadata": {
            "tags": []
          },
          "execution_count": 10
        }
      ]
    },
    {
      "cell_type": "code",
      "metadata": {
        "id": "LJmdEHJXtkYw",
        "colab_type": "code",
        "colab": {
          "base_uri": "https://localhost:8080/",
          "height": 302
        },
        "outputId": "f1d4ad89-c50e-4b82-890a-e512318271b3"
      },
      "source": [
        "#Just for an affirmation that the non-virginica is coded to 0\n",
        "df_iris.species[50:60], df_iris.species[144:150]"
      ],
      "execution_count": 11,
      "outputs": [
        {
          "output_type": "execute_result",
          "data": {
            "text/plain": [
              "(88    0\n",
              " 78    0\n",
              " 79    0\n",
              " 80    0\n",
              " 81    0\n",
              " 82    0\n",
              " 83    0\n",
              " 84    0\n",
              " 85    0\n",
              " 86    0\n",
              " Name: species, dtype: int64, 32    0\n",
              " 31    0\n",
              " 30    0\n",
              " 29    0\n",
              " 28    0\n",
              " 0     0\n",
              " Name: species, dtype: int64)"
            ]
          },
          "metadata": {
            "tags": []
          },
          "execution_count": 11
        }
      ]
    },
    {
      "cell_type": "code",
      "metadata": {
        "id": "AKAwXjJrVdBi",
        "colab_type": "code",
        "colab": {
          "base_uri": "https://localhost:8080/",
          "height": 34
        },
        "outputId": "5d5e8ecc-62ad-4110-f8e3-23ef6251ac55"
      },
      "source": [
        "#Split X and y (features and target) after encoding of species column\n",
        "X = df_iris.iloc[:,[0,1,2,3]]\n",
        "y = df_iris.iloc[:,4]\n",
        "type(X), type(y)"
      ],
      "execution_count": 12,
      "outputs": [
        {
          "output_type": "execute_result",
          "data": {
            "text/plain": [
              "(pandas.core.frame.DataFrame, pandas.core.series.Series)"
            ]
          },
          "metadata": {
            "tags": []
          },
          "execution_count": 12
        }
      ]
    },
    {
      "cell_type": "code",
      "metadata": {
        "id": "msFPaGjjbfMm",
        "colab_type": "code",
        "colab": {
          "base_uri": "https://localhost:8080/",
          "height": 195
        },
        "outputId": "280d0872-d367-4119-e2f7-c3030cb73bc4"
      },
      "source": [
        "X.head()"
      ],
      "execution_count": 13,
      "outputs": [
        {
          "output_type": "execute_result",
          "data": {
            "text/html": [
              "<div>\n",
              "<style scoped>\n",
              "    .dataframe tbody tr th:only-of-type {\n",
              "        vertical-align: middle;\n",
              "    }\n",
              "\n",
              "    .dataframe tbody tr th {\n",
              "        vertical-align: top;\n",
              "    }\n",
              "\n",
              "    .dataframe thead th {\n",
              "        text-align: right;\n",
              "    }\n",
              "</style>\n",
              "<table border=\"1\" class=\"dataframe\">\n",
              "  <thead>\n",
              "    <tr style=\"text-align: right;\">\n",
              "      <th></th>\n",
              "      <th>sepal_length</th>\n",
              "      <th>sepal_width</th>\n",
              "      <th>petal_length</th>\n",
              "      <th>petal_width</th>\n",
              "    </tr>\n",
              "  </thead>\n",
              "  <tbody>\n",
              "    <tr>\n",
              "      <th>149</th>\n",
              "      <td>5.9</td>\n",
              "      <td>3.0</td>\n",
              "      <td>5.1</td>\n",
              "      <td>1.8</td>\n",
              "    </tr>\n",
              "    <tr>\n",
              "      <th>111</th>\n",
              "      <td>6.4</td>\n",
              "      <td>2.7</td>\n",
              "      <td>5.3</td>\n",
              "      <td>1.9</td>\n",
              "    </tr>\n",
              "    <tr>\n",
              "      <th>122</th>\n",
              "      <td>7.7</td>\n",
              "      <td>2.8</td>\n",
              "      <td>6.7</td>\n",
              "      <td>2.0</td>\n",
              "    </tr>\n",
              "    <tr>\n",
              "      <th>121</th>\n",
              "      <td>5.6</td>\n",
              "      <td>2.8</td>\n",
              "      <td>4.9</td>\n",
              "      <td>2.0</td>\n",
              "    </tr>\n",
              "    <tr>\n",
              "      <th>120</th>\n",
              "      <td>6.9</td>\n",
              "      <td>3.2</td>\n",
              "      <td>5.7</td>\n",
              "      <td>2.3</td>\n",
              "    </tr>\n",
              "  </tbody>\n",
              "</table>\n",
              "</div>"
            ],
            "text/plain": [
              "     sepal_length  sepal_width  petal_length  petal_width\n",
              "149           5.9          3.0           5.1          1.8\n",
              "111           6.4          2.7           5.3          1.9\n",
              "122           7.7          2.8           6.7          2.0\n",
              "121           5.6          2.8           4.9          2.0\n",
              "120           6.9          3.2           5.7          2.3"
            ]
          },
          "metadata": {
            "tags": []
          },
          "execution_count": 13
        }
      ]
    },
    {
      "cell_type": "code",
      "metadata": {
        "id": "PkmUpubCbisq",
        "colab_type": "code",
        "colab": {
          "base_uri": "https://localhost:8080/",
          "height": 202
        },
        "outputId": "a09c7e41-9f7a-4738-8078-a6cd541bfd61"
      },
      "source": [
        "y.head(), y.tail()"
      ],
      "execution_count": 14,
      "outputs": [
        {
          "output_type": "execute_result",
          "data": {
            "text/plain": [
              "(149    1\n",
              " 111    1\n",
              " 122    1\n",
              " 121    1\n",
              " 120    1\n",
              " Name: species, dtype: int64, 31    0\n",
              " 30    0\n",
              " 29    0\n",
              " 28    0\n",
              " 0     0\n",
              " Name: species, dtype: int64)"
            ]
          },
          "metadata": {
            "tags": []
          },
          "execution_count": 14
        }
      ]
    },
    {
      "cell_type": "code",
      "metadata": {
        "id": "2i_LNDY5lj0y",
        "colab_type": "code",
        "colab": {
          "base_uri": "https://localhost:8080/",
          "height": 235
        },
        "outputId": "79343eaa-4c72-4b6a-940e-566aebf5121a"
      },
      "source": [
        "#Random permutation for shuffling the dataset\n",
        "perm = np.random.permutation(150)\n",
        "type(perm), perm"
      ],
      "execution_count": 15,
      "outputs": [
        {
          "output_type": "execute_result",
          "data": {
            "text/plain": [
              "(numpy.ndarray,\n",
              " array([136,  96,  47,  31,  12,  10,  69,  68,  44,   9,  38,  85,  90,\n",
              "        127, 141,  28, 102,  72, 145, 125,  53, 106, 147,  37,  60,  41,\n",
              "        126,  27, 114, 119,  99,  62,  32, 116,  77,   8,  34, 140,  63,\n",
              "         48,  91,  19, 104,  97,  58,  64,  73,  24, 130, 137,  59,   0,\n",
              "        111,  51,  61,  95,   3,  16,  89,  82, 149, 133,  49,  45,  54,\n",
              "         75, 109,  35,  42,  40,  18, 118,  26,  67,  57, 122, 148,  93,\n",
              "         92, 143,  15,  71, 103,  30,   4,  50,  66, 115, 131,  29,  98,\n",
              "         33, 113,  74,   6, 117,  81, 110,  94,   2, 129, 105, 142,  25,\n",
              "         39, 112, 138,  11,  88,  17, 144, 100, 135,  20,  46, 101, 108,\n",
              "        132, 128,  23, 124,  43,  65, 146,  80, 120,  70,  22,  13,  86,\n",
              "         83,  87,   1, 107,  84,  21, 121,  36,  78, 134,   5,  56,  76,\n",
              "         55, 139,   7,  14,  52, 123,  79]))"
            ]
          },
          "metadata": {
            "tags": []
          },
          "execution_count": 15
        }
      ]
    },
    {
      "cell_type": "code",
      "metadata": {
        "id": "Tz5fHDo3lsux",
        "colab_type": "code",
        "colab": {}
      },
      "source": [
        "#Shuffle the datset by the generated Permutation number indices\n",
        "X_train, X_test =  X.iloc[perm][20:], X.iloc[perm][:20]\n",
        "y_train, y_test =  y.iloc[perm][20:], y.iloc[perm][:20]"
      ],
      "execution_count": 16,
      "outputs": []
    },
    {
      "cell_type": "code",
      "metadata": {
        "id": "DHiVxTximmDH",
        "colab_type": "code",
        "colab": {
          "base_uri": "https://localhost:8080/",
          "height": 84
        },
        "outputId": "d59a5ca4-a0ad-46a3-db0a-1d0896cf2580"
      },
      "source": [
        "print(\"Dataset Shape:\")\n",
        "print(\"==============\")\n",
        "print(f\"X_train: {X_train.shape} y_train: {y_train.shape}\")\n",
        "print(f\"X_test: {X_test.shape}\\t y_test: {y_test.shape}\")"
      ],
      "execution_count": 17,
      "outputs": [
        {
          "output_type": "stream",
          "text": [
            "Dataset Shape:\n",
            "==============\n",
            "X_train: (130, 4) y_train: (130,)\n",
            "X_test: (20, 4)\t y_test: (20,)\n"
          ],
          "name": "stdout"
        }
      ]
    },
    {
      "cell_type": "code",
      "metadata": {
        "colab_type": "code",
        "id": "0Kh4dBfVyJMP",
        "colab": {}
      },
      "source": [
        "#Reshape label /target column to attain a 2D array \n",
        "#Helps python broadcasting to compute the correct values once we apply our linear algebra\n",
        "y_train = y_train.values.reshape(-1, 1)\n",
        "y_test = y_test.values.reshape(-1, 1)"
      ],
      "execution_count": 18,
      "outputs": []
    },
    {
      "cell_type": "code",
      "metadata": {
        "colab_type": "code",
        "id": "0DR_YMBsyOci",
        "colab": {
          "base_uri": "https://localhost:8080/",
          "height": 84
        },
        "outputId": "c09990ac-1447-42c6-bd53-346e99292496"
      },
      "source": [
        "print(\"Dataset Shape - Post reshaping the Label/Target column:\")\n",
        "print(\"======================================================\")\n",
        "print(f\"X_train: {X_train.shape} y_train: {y_train.shape}\")\n",
        "print(f\"X_test: {X_test.shape}\\t y_test: {y_test.shape}\")"
      ],
      "execution_count": 19,
      "outputs": [
        {
          "output_type": "stream",
          "text": [
            "Dataset Shape - Post reshaping the Label/Target column:\n",
            "======================================================\n",
            "X_train: (130, 4) y_train: (130, 1)\n",
            "X_test: (20, 4)\t y_test: (20, 1)\n"
          ],
          "name": "stdout"
        }
      ]
    },
    {
      "cell_type": "code",
      "metadata": {
        "id": "xXdbxPa6EDI3",
        "colab_type": "code",
        "colab": {}
      },
      "source": [
        "#Pick two important features alone for classification\n",
        "X_train = X_train.iloc[:, 2:]\n",
        "X_test = X_test.iloc[:, 2:]"
      ],
      "execution_count": 20,
      "outputs": []
    },
    {
      "cell_type": "code",
      "metadata": {
        "id": "LeGQZVFkEfcw",
        "colab_type": "code",
        "colab": {
          "base_uri": "https://localhost:8080/",
          "height": 195
        },
        "outputId": "adfd2134-4ae1-4fca-ed21-fb5490a15104"
      },
      "source": [
        "#Picks only Petal Length and Petal Width - important features \n",
        "X_train.head()"
      ],
      "execution_count": 21,
      "outputs": [
        {
          "output_type": "execute_result",
          "data": {
            "text/html": [
              "<div>\n",
              "<style scoped>\n",
              "    .dataframe tbody tr th:only-of-type {\n",
              "        vertical-align: middle;\n",
              "    }\n",
              "\n",
              "    .dataframe tbody tr th {\n",
              "        vertical-align: top;\n",
              "    }\n",
              "\n",
              "    .dataframe thead th {\n",
              "        text-align: right;\n",
              "    }\n",
              "</style>\n",
              "<table border=\"1\" class=\"dataframe\">\n",
              "  <thead>\n",
              "    <tr style=\"text-align: right;\">\n",
              "      <th></th>\n",
              "      <th>petal_length</th>\n",
              "      <th>petal_width</th>\n",
              "    </tr>\n",
              "  </thead>\n",
              "  <tbody>\n",
              "    <tr>\n",
              "      <th>80</th>\n",
              "      <td>3.8</td>\n",
              "      <td>1.1</td>\n",
              "    </tr>\n",
              "    <tr>\n",
              "      <th>19</th>\n",
              "      <td>1.5</td>\n",
              "      <td>0.3</td>\n",
              "    </tr>\n",
              "    <tr>\n",
              "      <th>29</th>\n",
              "      <td>1.6</td>\n",
              "      <td>0.2</td>\n",
              "    </tr>\n",
              "    <tr>\n",
              "      <th>139</th>\n",
              "      <td>5.4</td>\n",
              "      <td>2.1</td>\n",
              "    </tr>\n",
              "    <tr>\n",
              "      <th>87</th>\n",
              "      <td>4.4</td>\n",
              "      <td>1.3</td>\n",
              "    </tr>\n",
              "  </tbody>\n",
              "</table>\n",
              "</div>"
            ],
            "text/plain": [
              "     petal_length  petal_width\n",
              "80            3.8          1.1\n",
              "19            1.5          0.3\n",
              "29            1.6          0.2\n",
              "139           5.4          2.1\n",
              "87            4.4          1.3"
            ]
          },
          "metadata": {
            "tags": []
          },
          "execution_count": 21
        }
      ]
    },
    {
      "cell_type": "code",
      "metadata": {
        "id": "1g-WmJT0Uhcx",
        "colab_type": "code",
        "colab": {
          "base_uri": "https://localhost:8080/",
          "height": 84
        },
        "outputId": "561f70f5-1a9f-4698-9213-f54100b2ef61"
      },
      "source": [
        "print(\"Dataset Shape - Post restricting to two features:\")\n",
        "print(\"======================================================\")\n",
        "print(f\"X_train: {X_train.shape} y_train: {y_train.shape}\")\n",
        "print(f\"X_test: {X_test.shape}\\t y_test: {y_test.shape}\")"
      ],
      "execution_count": 22,
      "outputs": [
        {
          "output_type": "stream",
          "text": [
            "Dataset Shape - Post restricting to two features:\n",
            "======================================================\n",
            "X_train: (130, 2) y_train: (130, 1)\n",
            "X_test: (20, 2)\t y_test: (20, 1)\n"
          ],
          "name": "stdout"
        }
      ]
    },
    {
      "cell_type": "markdown",
      "metadata": {
        "colab_type": "text",
        "id": "BW4OHswfqjHR"
      },
      "source": [
        "# <font color='blue' size=5>Visuzaliation Function for Plotting</font>"
      ]
    },
    {
      "cell_type": "code",
      "metadata": {
        "colab_type": "code",
        "id": "3HpvTwDHyQQy",
        "colab": {
          "base_uri": "https://localhost:8080/",
          "height": 312
        },
        "outputId": "56524137-ad03-4d02-f1e2-ecad08a47408"
      },
      "source": [
        "plt.scatter(X_train.iloc[0:49, 0], X_train.iloc[0:49, 1], c=y_train[0:49])\n",
        "plt.scatter(X_train.iloc[50:149, 0], X_train.iloc[50:149, 1], c=y_train[50:149])\n",
        "\n",
        "plt.xlabel('Petal Length (cm)')\n",
        "plt.ylabel('Petal Width (cm)')\n",
        "\n",
        "plt.title('Classification of Virginica vs Non-virginica')\n",
        "plt.legend(['Virginica', 'Non-Virginica'], loc='upper left')\n",
        "\n",
        "plt.figure(figsize =(50, 50)) \n",
        "\n",
        "plt.show()"
      ],
      "execution_count": 23,
      "outputs": [
        {
          "output_type": "display_data",
          "data": {
            "image/png": "[encoded data removed]",
            "text/plain": [
              "<Figure size 432x288 with 1 Axes>"
            ]
          },
          "metadata": {
            "tags": [],
            "needs_background": "light"
          }
        },
        {
          "output_type": "display_data",
          "data": {
            "text/plain": [
              "<Figure size 3600x3600 with 0 Axes>"
            ]
          },
          "metadata": {
            "tags": []
          }
        }
      ]
    },
    {
      "cell_type": "markdown",
      "metadata": {
        "id": "0t7JN1kHO2Ri",
        "colab_type": "text"
      },
      "source": [
        "**Inference: On Scatter Plot. ome overlapping data points but these features do a reasonable job in separating our classes**"
      ]
    },
    {
      "cell_type": "markdown",
      "metadata": {
        "id": "knO88LoJPGqu",
        "colab_type": "text"
      },
      "source": [
        "**Sigmoid Function**"
      ]
    },
    {
      "cell_type": "code",
      "metadata": {
        "id": "zmDKrg_bO1vL",
        "colab_type": "code",
        "colab": {}
      },
      "source": [
        "def Sigmoid(z):\n",
        "  \n",
        "  return 1.0 / (1.0 + np.exp(-z))"
      ],
      "execution_count": 24,
      "outputs": []
    },
    {
      "cell_type": "markdown",
      "metadata": {
        "id": "wts0lcIfQ8Xz",
        "colab_type": "text"
      },
      "source": [
        "**Sigmoid -Visualization Plotting**"
      ]
    },
    {
      "cell_type": "code",
      "metadata": {
        "colab_type": "code",
        "id": "YYaVyQ2lyXcr",
        "colab": {
          "base_uri": "https://localhost:8080/",
          "height": 282
        },
        "outputId": "8ebd187f-a1e1-4645-9168-35ea8aa78cac"
      },
      "source": [
        "f, axes = plt.subplots(1,1)\n",
        "\n",
        "plt.plot(Sigmoid(np.linspace(-4,4)), Sigmoid(np.linspace(-10,10)))\n",
        "plt.xlim(0,1)\n",
        "\n",
        "axes.plot(0.01, Sigmoid(-500), 'r')\n",
        "axes.plot(0.50, Sigmoid(0), 'g')\n",
        "axes.plot(0.99, Sigmoid(500), 'b')\n",
        "\n",
        "plt.xticks([0,0.25,0.50,0.75,1])\n",
        "plt.yticks([0,0.25,0.50,0.75,1])\n",
        "\n",
        "axes.legend(['sigmoid curve', '-500', 'Zero', '+500'])\n",
        "plt.figure(figsize =(50, 50)) \n",
        "plt.show()"
      ],
      "execution_count": 25,
      "outputs": [
        {
          "output_type": "display_data",
          "data": {
            "image/png": "[encoded data removed]",
            "text/plain": [
              "<Figure size 432x288 with 1 Axes>"
            ]
          },
          "metadata": {
            "tags": [],
            "needs_background": "light"
          }
        },
        {
          "output_type": "display_data",
          "data": {
            "text/plain": [
              "<Figure size 3600x3600 with 0 Axes>"
            ]
          },
          "metadata": {
            "tags": []
          }
        }
      ]
    },
    {
      "cell_type": "markdown",
      "metadata": {
        "id": "hB4izpr9TB0R",
        "colab_type": "text"
      },
      "source": [
        "**Logistic-Loss or Cross-Entropy Function**"
      ]
    },
    {
      "cell_type": "code",
      "metadata": {
        "colab_type": "code",
        "id": "EAfkVI6GyaRO",
        "colab": {}
      },
      "source": [
        "def logistic_loss(y, y_hat):\n",
        "  # y -> actual given true value\n",
        "  # y_hat -> our model prediction\n",
        "\n",
        "  return -np.mean(y * np.log(y_hat)) + (1-y) * np.log(1 - y_hat)"
      ],
      "execution_count": 26,
      "outputs": []
    },
    {
      "cell_type": "markdown",
      "metadata": {
        "id": "JA4bACY8UAhq",
        "colab_type": "text"
      },
      "source": [
        "Step: 1\n",
        "Initialize Weights and Bias "
      ]
    },
    {
      "cell_type": "code",
      "metadata": {
        "colab_type": "code",
        "id": "GecwYV9fsKZ9",
        "colab": {}
      },
      "source": [
        "def initialize_weights(dim):\n",
        "\n",
        "    print('Dim: ', dim)\n",
        "    w = np.zeros(dim)\n",
        "    b = 0\n",
        "    return w,b"
      ],
      "execution_count": 27,
      "outputs": []
    },
    {
      "cell_type": "markdown",
      "metadata": {
        "id": "yn9wd3icnhUS",
        "colab_type": "text"
      },
      "source": [
        "**Parameters Initialization**"
      ]
    },
    {
      "cell_type": "code",
      "metadata": {
        "colab_type": "code",
        "id": "Pv1llH429wG5",
        "colab": {
          "base_uri": "https://localhost:8080/",
          "height": 151
        },
        "outputId": "c05889f0-f172-47c4-ccb8-87bd82ddde24"
      },
      "source": [
        "x_dim = (X_train.shape[1],1)\n",
        "learning_rate = 0.01\n",
        "epochs = 1000\n",
        "\n",
        "weight,bias = initialize_weights(x_dim)\n",
        "\n",
        "print(f\"Initial Weights: \\n{weight}\\nInitial Bias:\\t{bias}\\n\")\n",
        "print(f\"Learning Rate:\\t{learning_rate}\\nEpochs:{epochs}\")"
      ],
      "execution_count": 28,
      "outputs": [
        {
          "output_type": "stream",
          "text": [
            "Dim:  (2, 1)\n",
            "Initial Weights: \n",
            "[[0.]\n",
            " [0.]]\n",
            "Initial Bias:\t0\n",
            "\n",
            "Learning Rate:\t0.01\n",
            "Epochs:1000\n"
          ],
          "name": "stdout"
        }
      ]
    },
    {
      "cell_type": "markdown",
      "metadata": {
        "colab_type": "text",
        "id": "qPv4NJuxABgs"
      },
      "source": [
        "**Train the Model**"
      ]
    },
    {
      "cell_type": "code",
      "metadata": {
        "colab_type": "code",
        "id": "nAfmQF47_Sd6",
        "colab": {}
      },
      "source": [
        "def train_model(X_train, y_train, weight, bias, epochs):\n",
        "\n",
        "  train_loss = []\n",
        "  print('epochs ', epochs)\n",
        "  m = len(y_train)\n",
        "\n",
        "  X_train = np.array(X_train)\n",
        "\n",
        "  for iteration in tqdm(range(epochs)):\n",
        "    \n",
        "      Z = np.matmul(X_train, weight) + bias\n",
        "      y_hat = Sigmoid(Z)\n",
        "\n",
        "      loss = logistic_loss(y_train, y_hat)\n",
        "      diff_in_predcn = y_hat - y_train\n",
        "\n",
        "      dw = 1/m * np.matmul(X_train.T, diff_in_predcn)\n",
        "      db = np.sum(diff_in_predcn)\n",
        "\n",
        "      weight = weight - learning_rate * dw\n",
        "      bias = bias - learning_rate * db\n",
        "\n",
        "      train_loss.append(loss)\n",
        "\n",
        "  return weight, bias, train_loss, y_hat"
      ],
      "execution_count": 29,
      "outputs": []
    },
    {
      "cell_type": "code",
      "metadata": {
        "colab_type": "code",
        "id": "P_JASp_NAfK_",
        "colab": {
          "base_uri": "https://localhost:8080/",
          "height": 1000
        },
        "outputId": "b9ace849-39a5-47eb-d7b7-7b861ab493e1"
      },
      "source": [
        "Weight, Bias, train_loss, y_hat = train_model(X_train, y_train, weight, bias, epochs)\n",
        "\n",
        "\n",
        "print(\"\\nTraining Loss:\")\n",
        "print(\"================\")\n",
        "for iteration in range(len(train_loss)):\n",
        "    if iteration%100 == 0:     \n",
        "        print(f\" {iteration}/{epochs} | Loss: {train_loss[iteration]}\")"
      ],
      "execution_count": 30,
      "outputs": [
        {
          "output_type": "stream",
          "text": [
            "100%|██████████| 1000/1000 [00:00<00:00, 15325.30it/s]"
          ],
          "name": "stderr"
        },
        {
          "output_type": "stream",
          "text": [
            "epochs  1000\n",
            "\n",
            "Training Loss:\n",
            "================\n",
            " 0/1000 | Loss: [[-0.46920732]\n",
            " [-0.46920732]\n",
            " [-0.46920732]\n",
            " [ 0.22393986]\n",
            " [-0.46920732]\n",
            " [ 0.22393986]\n",
            " [-0.46920732]\n",
            " [ 0.22393986]\n",
            " [-0.46920732]\n",
            " [-0.46920732]\n",
            " [-0.46920732]\n",
            " [-0.46920732]\n",
            " [ 0.22393986]\n",
            " [-0.46920732]\n",
            " [-0.46920732]\n",
            " [ 0.22393986]\n",
            " [ 0.22393986]\n",
            " [-0.46920732]\n",
            " [-0.46920732]\n",
            " [ 0.22393986]\n",
            " [-0.46920732]\n",
            " [ 0.22393986]\n",
            " [-0.46920732]\n",
            " [-0.46920732]\n",
            " [-0.46920732]\n",
            " [-0.46920732]\n",
            " [-0.46920732]\n",
            " [ 0.22393986]\n",
            " [-0.46920732]\n",
            " [-0.46920732]\n",
            " [-0.46920732]\n",
            " [ 0.22393986]\n",
            " [-0.46920732]\n",
            " [-0.46920732]\n",
            " [-0.46920732]\n",
            " [-0.46920732]\n",
            " [ 0.22393986]\n",
            " [ 0.22393986]\n",
            " [-0.46920732]\n",
            " [-0.46920732]\n",
            " [-0.46920732]\n",
            " [-0.46920732]\n",
            " [ 0.22393986]\n",
            " [ 0.22393986]\n",
            " [-0.46920732]\n",
            " [-0.46920732]\n",
            " [-0.46920732]\n",
            " [ 0.22393986]\n",
            " [ 0.22393986]\n",
            " [ 0.22393986]\n",
            " [ 0.22393986]\n",
            " [-0.46920732]\n",
            " [ 0.22393986]\n",
            " [-0.46920732]\n",
            " [-0.46920732]\n",
            " [-0.46920732]\n",
            " [-0.46920732]\n",
            " [-0.46920732]\n",
            " [-0.46920732]\n",
            " [-0.46920732]\n",
            " [ 0.22393986]\n",
            " [-0.46920732]\n",
            " [-0.46920732]\n",
            " [ 0.22393986]\n",
            " [ 0.22393986]\n",
            " [-0.46920732]\n",
            " [-0.46920732]\n",
            " [-0.46920732]\n",
            " [-0.46920732]\n",
            " [ 0.22393986]\n",
            " [-0.46920732]\n",
            " [ 0.22393986]\n",
            " [-0.46920732]\n",
            " [-0.46920732]\n",
            " [ 0.22393986]\n",
            " [-0.46920732]\n",
            " [-0.46920732]\n",
            " [-0.46920732]\n",
            " [-0.46920732]\n",
            " [ 0.22393986]\n",
            " [-0.46920732]\n",
            " [-0.46920732]\n",
            " [-0.46920732]\n",
            " [ 0.22393986]\n",
            " [ 0.22393986]\n",
            " [-0.46920732]\n",
            " [-0.46920732]\n",
            " [ 0.22393986]\n",
            " [-0.46920732]\n",
            " [ 0.22393986]\n",
            " [-0.46920732]\n",
            " [-0.46920732]\n",
            " [-0.46920732]\n",
            " [ 0.22393986]\n",
            " [ 0.22393986]\n",
            " [-0.46920732]\n",
            " [-0.46920732]\n",
            " [-0.46920732]\n",
            " [-0.46920732]\n",
            " [ 0.22393986]\n",
            " [-0.46920732]\n",
            " [ 0.22393986]\n",
            " [-0.46920732]\n",
            " [-0.46920732]\n",
            " [-0.46920732]\n",
            " [-0.46920732]\n",
            " [-0.46920732]\n",
            " [ 0.22393986]\n",
            " [ 0.22393986]\n",
            " [-0.46920732]\n",
            " [-0.46920732]\n",
            " [-0.46920732]\n",
            " [ 0.22393986]\n",
            " [-0.46920732]\n",
            " [-0.46920732]\n",
            " [ 0.22393986]\n",
            " [-0.46920732]\n",
            " [ 0.22393986]\n",
            " [-0.46920732]\n",
            " [-0.46920732]\n",
            " [ 0.22393986]\n",
            " [-0.46920732]\n",
            " [-0.46920732]\n",
            " [-0.46920732]\n",
            " [-0.46920732]\n",
            " [ 0.22393986]\n",
            " [ 0.22393986]\n",
            " [-0.46920732]\n",
            " [-0.46920732]\n",
            " [-0.46920732]]\n",
            " 100/1000 | Loss: [[-0.1516073 ]\n",
            " [ 0.06666963]\n",
            " [ 0.06399844]\n",
            " [ 0.21840261]\n",
            " [-0.23970073]\n",
            " [ 0.21840261]\n",
            " [ 0.0586305 ]\n",
            " [ 0.21840261]\n",
            " [ 0.06924858]\n",
            " [ 0.05303658]\n",
            " [-0.14011624]\n",
            " [-0.1874376 ]\n",
            " [ 0.21840261]\n",
            " [ 0.07433278]\n",
            " [-0.26762017]\n",
            " [ 0.21840261]\n",
            " [ 0.21840261]\n",
            " [ 0.07925547]\n",
            " [-0.23295425]\n",
            " [ 0.21840261]\n",
            " [-0.26762017]\n",
            " [ 0.21840261]\n",
            " [ 0.07183545]\n",
            " [-0.32769105]\n",
            " [-0.27476818]\n",
            " [-0.27490699]\n",
            " [-0.35959368]\n",
            " [ 0.21840261]\n",
            " [ 0.07433278]\n",
            " [ 0.07683757]\n",
            " [-0.29698695]\n",
            " [ 0.21840261]\n",
            " [ 0.07433278]\n",
            " [-0.26762017]\n",
            " [-0.09260287]\n",
            " [-0.33535076]\n",
            " [ 0.21840261]\n",
            " [ 0.21840261]\n",
            " [-0.28959164]\n",
            " [-0.30446426]\n",
            " [ 0.07433278]\n",
            " [ 0.04130526]\n",
            " [ 0.21840261]\n",
            " [ 0.21840261]\n",
            " [-0.13469492]\n",
            " [-0.28959164]\n",
            " [ 0.09309785]\n",
            " [ 0.21840261]\n",
            " [ 0.21840261]\n",
            " [ 0.21840261]\n",
            " [ 0.21840261]\n",
            " [ 0.07183545]\n",
            " [ 0.21840261]\n",
            " [-0.21293642]\n",
            " [-0.26762017]\n",
            " [ 0.07925547]\n",
            " [ 0.07433278]\n",
            " [-0.26762017]\n",
            " [-0.18143344]\n",
            " [ 0.07433278]\n",
            " [ 0.21840261]\n",
            " [-0.06848167]\n",
            " [ 0.07438061]\n",
            " [ 0.21840261]\n",
            " [ 0.21840261]\n",
            " [-0.20003061]\n",
            " [-0.30460944]\n",
            " [ 0.07178684]\n",
            " [ 0.06399844]\n",
            " [ 0.21840261]\n",
            " [-0.27504584]\n",
            " [ 0.21840261]\n",
            " [ 0.06399844]\n",
            " [-0.24652647]\n",
            " [ 0.21840261]\n",
            " [ 0.06924858]\n",
            " [-0.25356596]\n",
            " [ 0.09086277]\n",
            " [-0.1632879 ]\n",
            " [ 0.21840261]\n",
            " [ 0.06924858]\n",
            " [ 0.05020016]\n",
            " [ 0.07178684]\n",
            " [ 0.21840261]\n",
            " [ 0.21840261]\n",
            " [ 0.0767905 ]\n",
            " [ 0.06924858]\n",
            " [ 0.21840261]\n",
            " [-0.09260287]\n",
            " [ 0.21840261]\n",
            " [ 0.07178684]\n",
            " [ 0.05582895]\n",
            " [ 0.07925547]\n",
            " [ 0.21840261]\n",
            " [ 0.21840261]\n",
            " [ 0.08402102]\n",
            " [ 0.06404944]\n",
            " [ 0.07183545]\n",
            " [ 0.07433278]\n",
            " [ 0.21840261]\n",
            " [ 0.04720697]\n",
            " [ 0.21840261]\n",
            " [-0.18131595]\n",
            " [ 0.06399844]\n",
            " [-0.28213763]\n",
            " [ 0.07433278]\n",
            " [-0.22615865]\n",
            " [ 0.21840261]\n",
            " [ 0.21840261]\n",
            " [-0.11308581]\n",
            " [-0.22615865]\n",
            " [-0.22603071]\n",
            " [ 0.21840261]\n",
            " [ 0.05857785]\n",
            " [-0.26775742]\n",
            " [ 0.21840261]\n",
            " [ 0.06924858]\n",
            " [ 0.21840261]\n",
            " [-0.32769105]\n",
            " [ 0.05309091]\n",
            " [ 0.21840261]\n",
            " [-0.36789937]\n",
            " [-0.16929815]\n",
            " [-0.16918359]\n",
            " [ 0.07178684]\n",
            " [ 0.21840261]\n",
            " [ 0.21840261]\n",
            " [-0.11308581]\n",
            " [ 0.06399844]\n",
            " [-0.1874376 ]]\n",
            " 200/1000 | Loss: [[-0.13915865]\n",
            " [ 0.1038536 ]\n",
            " [ 0.10181397]\n",
            " [ 0.17463983]\n",
            " [-0.27017277]\n",
            " [ 0.17463983]\n",
            " [ 0.09744472]\n",
            " [ 0.17463983]\n",
            " [ 0.10589121]\n",
            " [ 0.0928867 ]\n",
            " [-0.12363894]\n",
            " [-0.19086162]\n",
            " [ 0.17463983]\n",
            " [ 0.10974753]\n",
            " [-0.31499399]\n",
            " [ 0.17463983]\n",
            " [ 0.17463983]\n",
            " [ 0.11339409]\n",
            " [-0.25942039]\n",
            " [ 0.17463983]\n",
            " [-0.31499399]\n",
            " [ 0.17463983]\n",
            " [ 0.10782044]\n",
            " [-0.41427703]\n",
            " [-0.3268095 ]\n",
            " [-0.32649421]\n",
            " [-0.46954392]\n",
            " [ 0.17463983]\n",
            " [ 0.10974753]\n",
            " [ 0.11157191]\n",
            " [-0.36290624]\n",
            " [ 0.17463983]\n",
            " [ 0.10974753]\n",
            " [-0.31499399]\n",
            " [-0.06072478]\n",
            " [-0.42821035]\n",
            " [ 0.17463983]\n",
            " [ 0.17463983]\n",
            " [-0.35044335]\n",
            " [-0.37559124]\n",
            " [ 0.10974753]\n",
            " [ 0.08298443]\n",
            " [ 0.17463983]\n",
            " [ 0.17463983]\n",
            " [-0.11572575]\n",
            " [-0.35044335]\n",
            " [ 0.12318   ]\n",
            " [ 0.17463983]\n",
            " [ 0.17463983]\n",
            " [ 0.17463983]\n",
            " [ 0.17463983]\n",
            " [ 0.10782044]\n",
            " [ 0.17463983]\n",
            " [-0.22893799]\n",
            " [-0.31499399]\n",
            " [ 0.11339409]\n",
            " [ 0.10974753]\n",
            " [-0.31499399]\n",
            " [-0.18146115]\n",
            " [ 0.10974753]\n",
            " [ 0.17463983]\n",
            " [-0.03130217]\n",
            " [ 0.10969726]\n",
            " [ 0.17463983]\n",
            " [ 0.17463983]\n",
            " [-0.20951302]\n",
            " [-0.37525289]\n",
            " [ 0.10787211]\n",
            " [ 0.10181397]\n",
            " [ 0.17463983]\n",
            " [-0.32617908]\n",
            " [ 0.17463983]\n",
            " [ 0.10181397]\n",
            " [-0.28113557]\n",
            " [ 0.17463983]\n",
            " [ 0.10589121]\n",
            " [-0.29201226]\n",
            " [ 0.12168257]\n",
            " [-0.15558535]\n",
            " [ 0.17463983]\n",
            " [ 0.10589121]\n",
            " [ 0.0904796 ]\n",
            " [ 0.10787211]\n",
            " [ 0.17463983]\n",
            " [ 0.17463983]\n",
            " [ 0.11162077]\n",
            " [ 0.10589121]\n",
            " [ 0.17463983]\n",
            " [-0.06072478]\n",
            " [ 0.17463983]\n",
            " [ 0.10787211]\n",
            " [ 0.09522764]\n",
            " [ 0.11339409]\n",
            " [ 0.17463983]\n",
            " [ 0.17463983]\n",
            " [ 0.11684161]\n",
            " [ 0.10175778]\n",
            " [ 0.10782044]\n",
            " [ 0.10974753]\n",
            " [ 0.17463983]\n",
            " [ 0.0881373 ]\n",
            " [ 0.17463983]\n",
            " [-0.18170081]\n",
            " [ 0.10181397]\n",
            " [-0.33852231]\n",
            " [ 0.10974753]\n",
            " [-0.24915279]\n",
            " [ 0.17463983]\n",
            " [ 0.17463983]\n",
            " [-0.08696322]\n",
            " [-0.24915279]\n",
            " [-0.24942912]\n",
            " [ 0.17463983]\n",
            " [ 0.09750411]\n",
            " [-0.31468445]\n",
            " [ 0.17463983]\n",
            " [ 0.10589121]\n",
            " [ 0.17463983]\n",
            " [-0.41427703]\n",
            " [ 0.09282389]\n",
            " [ 0.17463983]\n",
            " [-0.48363275]\n",
            " [-0.16395262]\n",
            " [-0.16418238]\n",
            " [ 0.10787211]\n",
            " [ 0.17463983]\n",
            " [ 0.17463983]\n",
            " [-0.08696322]\n",
            " [ 0.10181397]\n",
            " [-0.19086162]]\n",
            " 300/1000 | Loss: [[-0.11558336]\n",
            " [ 0.11434598]\n",
            " [ 0.11292808]\n",
            " [ 0.15339442]\n",
            " [-0.26843761]\n",
            " [ 0.15339442]\n",
            " [ 0.1097106 ]\n",
            " [ 0.15339442]\n",
            " [ 0.11581419]\n",
            " [ 0.10636667]\n",
            " [-0.09889407]\n",
            " [-0.17450914]\n",
            " [ 0.15339442]\n",
            " [ 0.11849803]\n",
            " [-0.32399253]\n",
            " [ 0.15339442]\n",
            " [ 0.15339442]\n",
            " [ 0.1209933 ]\n",
            " [-0.25516513]\n",
            " [ 0.15339442]\n",
            " [-0.32399253]\n",
            " [ 0.15339442]\n",
            " [ 0.11713279]\n",
            " [-0.44949505]\n",
            " [-0.33900125]\n",
            " [-0.33795902]\n",
            " [-0.52196124]\n",
            " [ 0.15339442]\n",
            " [ 0.11849803]\n",
            " [ 0.11972404]\n",
            " [-0.38398109]\n",
            " [ 0.15339442]\n",
            " [ 0.11849803]\n",
            " [-0.32399253]\n",
            " [-0.03186945]\n",
            " [-0.46861273]\n",
            " [ 0.15339442]\n",
            " [ 0.15339442]\n",
            " [-0.36792644]\n",
            " [-0.40040637]\n",
            " [ 0.11849803]\n",
            " [ 0.0989125 ]\n",
            " [ 0.15339442]\n",
            " [ 0.15339442]\n",
            " [-0.08973533]\n",
            " [-0.36792644]\n",
            " [ 0.12747186]\n",
            " [ 0.15339442]\n",
            " [ 0.15339442]\n",
            " [ 0.15339442]\n",
            " [ 0.15339442]\n",
            " [ 0.11713279]\n",
            " [ 0.15339442]\n",
            " [-0.21903563]\n",
            " [-0.32399253]\n",
            " [ 0.1209933 ]\n",
            " [ 0.11849803]\n",
            " [-0.32399253]\n",
            " [-0.16301267]\n",
            " [ 0.11849803]\n",
            " [ 0.15339442]\n",
            " [-0.00256258]\n",
            " [ 0.11840592]\n",
            " [ 0.15339442]\n",
            " [ 0.15339442]\n",
            " [-0.19618055]\n",
            " [-0.39926653]\n",
            " [ 0.11722819]\n",
            " [ 0.11292808]\n",
            " [ 0.15339442]\n",
            " [-0.3369185 ]\n",
            " [ 0.15339442]\n",
            " [ 0.11292808]\n",
            " [-0.28205451]\n",
            " [ 0.15339442]\n",
            " [ 0.11581419]\n",
            " [-0.29504967]\n",
            " [ 0.12652419]\n",
            " [-0.13389593]\n",
            " [ 0.15339442]\n",
            " [ 0.11581419]\n",
            " [ 0.10453828]\n",
            " [ 0.11722819]\n",
            " [ 0.15339442]\n",
            " [ 0.15339442]\n",
            " [ 0.11981274]\n",
            " [ 0.11581419]\n",
            " [ 0.15339442]\n",
            " [-0.03186945]\n",
            " [ 0.15339442]\n",
            " [ 0.11722819]\n",
            " [ 0.10812817]\n",
            " [ 0.1209933 ]\n",
            " [ 0.15339442]\n",
            " [ 0.15339442]\n",
            " [ 0.12331281]\n",
            " [ 0.11282156]\n",
            " [ 0.11713279]\n",
            " [ 0.11849803]\n",
            " [ 0.15339442]\n",
            " [ 0.10290542]\n",
            " [ 0.15339442]\n",
            " [-0.16374099]\n",
            " [ 0.11292808]\n",
            " [-0.35330535]\n",
            " [ 0.11849803]\n",
            " [-0.24311007]\n",
            " [ 0.15339442]\n",
            " [ 0.15339442]\n",
            " [-0.05904041]\n",
            " [-0.24311007]\n",
            " [-0.24398895]\n",
            " [ 0.15339442]\n",
            " [ 0.10982512]\n",
            " [-0.32297509]\n",
            " [ 0.15339442]\n",
            " [ 0.11581419]\n",
            " [ 0.15339442]\n",
            " [-0.44949505]\n",
            " [ 0.10624327]\n",
            " [ 0.15339442]\n",
            " [-0.53999069]\n",
            " [-0.14310526]\n",
            " [-0.14379425]\n",
            " [ 0.11722819]\n",
            " [ 0.15339442]\n",
            " [ 0.15339442]\n",
            " [-0.05904041]\n",
            " [ 0.11292808]\n",
            " [-0.17450914]]\n",
            " 400/1000 | Loss: [[-0.09359763]\n",
            " [ 0.11653441]\n",
            " [ 0.11553748]\n",
            " [ 0.14034884]\n",
            " [-0.25840742]\n",
            " [ 0.14034884]\n",
            " [ 0.11315905]\n",
            " [ 0.14034884]\n",
            " [ 0.11760123]\n",
            " [ 0.11069822]\n",
            " [-0.07683962]\n",
            " [-0.15586317]\n",
            " [ 0.14034884]\n",
            " [ 0.11949511]\n",
            " [-0.32147156]\n",
            " [ 0.14034884]\n",
            " [ 0.14034884]\n",
            " [ 0.12123282]\n",
            " [-0.24339572]\n",
            " [ 0.14034884]\n",
            " [-0.32147156]\n",
            " [ 0.14034884]\n",
            " [ 0.11851614]\n",
            " [-0.46625697]\n",
            " [-0.3388727 ]\n",
            " [-0.33702626]\n",
            " [-0.55246054]\n",
            " [ 0.14034884]\n",
            " [ 0.11949511]\n",
            " [ 0.12033461]\n",
            " [-0.39012788]\n",
            " [ 0.14034884]\n",
            " [ 0.11949511]\n",
            " [-0.32147156]\n",
            " [-0.00993239]\n",
            " [-0.48987962]\n",
            " [ 0.14034884]\n",
            " [ 0.14034884]\n",
            " [-0.37129923]\n",
            " [-0.40947719]\n",
            " [ 0.11949511]\n",
            " [ 0.1051003 ]\n",
            " [ 0.14034884]\n",
            " [ 0.14034884]\n",
            " [-0.06704352]\n",
            " [-0.37129923]\n",
            " [ 0.12563043]\n",
            " [ 0.14034884]\n",
            " [ 0.14034884]\n",
            " [ 0.14034884]\n",
            " [ 0.14034884]\n",
            " [ 0.11851614]\n",
            " [ 0.14034884]\n",
            " [-0.20394885]\n",
            " [-0.32147156]\n",
            " [ 0.12123282]\n",
            " [ 0.11949511]\n",
            " [-0.32147156]\n",
            " [-0.14297883]\n",
            " [ 0.11949511]\n",
            " [ 0.14034884]\n",
            " [ 0.01769447]\n",
            " [ 0.11939464]\n",
            " [ 0.14034884]\n",
            " [ 0.14034884]\n",
            " [-0.17913893]\n",
            " [-0.40742582]\n",
            " [ 0.11862079]\n",
            " [ 0.11553748]\n",
            " [ 0.14034884]\n",
            " [-0.33518538]\n",
            " [ 0.14034884]\n",
            " [ 0.11553748]\n",
            " [-0.27389359]\n",
            " [ 0.14034884]\n",
            " [ 0.11760123]\n",
            " [-0.28816615]\n",
            " [ 0.12501137]\n",
            " [-0.11257684]\n",
            " [ 0.14034884]\n",
            " [ 0.11760123]\n",
            " [ 0.10931265]\n",
            " [ 0.11862079]\n",
            " [ 0.14034884]\n",
            " [ 0.14034884]\n",
            " [ 0.12043062]\n",
            " [ 0.11760123]\n",
            " [ 0.14034884]\n",
            " [-0.00993239]\n",
            " [ 0.14034884]\n",
            " [ 0.11862079]\n",
            " [ 0.11202281]\n",
            " [ 0.12123282]\n",
            " [ 0.14034884]\n",
            " [ 0.14034884]\n",
            " [ 0.12282699]\n",
            " [ 0.11541818]\n",
            " [ 0.11851614]\n",
            " [ 0.11949511]\n",
            " [ 0.14034884]\n",
            " [ 0.10817241]\n",
            " [ 0.14034884]\n",
            " [-0.14417937]\n",
            " [ 0.11553748]\n",
            " [-0.3548809 ]\n",
            " [ 0.11949511]\n",
            " [-0.23035274]\n",
            " [ 0.14034884]\n",
            " [ 0.14034884]\n",
            " [-0.0363902 ]\n",
            " [-0.23035274]\n",
            " [-0.23185971]\n",
            " [ 0.14034884]\n",
            " [ 0.11328902]\n",
            " [-0.31967789]\n",
            " [ 0.14034884]\n",
            " [ 0.11760123]\n",
            " [ 0.14034884]\n",
            " [-0.46625697]\n",
            " [ 0.11055599]\n",
            " [ 0.14034884]\n",
            " [-0.57342405]\n",
            " [-0.12200398]\n",
            " [-0.12312687]\n",
            " [ 0.11862079]\n",
            " [ 0.14034884]\n",
            " [ 0.14034884]\n",
            " [-0.0363902 ]\n",
            " [ 0.11553748]\n",
            " [-0.15586317]]\n",
            " 500/1000 | Loss: [[-0.07484429]\n",
            " [ 0.11568405]\n",
            " [ 0.11496631]\n",
            " [ 0.13119978]\n",
            " [-0.24630759]\n",
            " [ 0.13119978]\n",
            " [ 0.11317665]\n",
            " [ 0.13119978]\n",
            " [ 0.11647529]\n",
            " [ 0.11133297]\n",
            " [-0.0584876 ]\n",
            " [-0.13845486]\n",
            " [ 0.13119978]\n",
            " [ 0.11784494]\n",
            " [-0.31497253]\n",
            " [ 0.13119978]\n",
            " [ 0.13119978]\n",
            " [ 0.11908795]\n",
            " [-0.23002256]\n",
            " [ 0.13119978]\n",
            " [-0.31497253]\n",
            " [ 0.13119978]\n",
            " [ 0.11712678]\n",
            " [-0.47489784]\n",
            " [-0.33427666]\n",
            " [-0.33161841]\n",
            " [-0.57270056]\n",
            " [ 0.13119978]\n",
            " [ 0.11784494]\n",
            " [ 0.11843621]\n",
            " [-0.39027808]\n",
            " [ 0.13119978]\n",
            " [ 0.11784494]\n",
            " [-0.31497253]\n",
            " [ 0.00654247]\n",
            " [-0.50256837]\n",
            " [ 0.13119978]\n",
            " [ 0.13119978]\n",
            " [-0.36918151]\n",
            " [-0.41204553]\n",
            " [ 0.11784494]\n",
            " [ 0.10706754]\n",
            " [ 0.13119978]\n",
            " [ 0.13119978]\n",
            " [-0.04839137]\n",
            " [-0.36918151]\n",
            " [ 0.12216784]\n",
            " [ 0.13119978]\n",
            " [ 0.13119978]\n",
            " [ 0.13119978]\n",
            " [ 0.13119978]\n",
            " [ 0.11712678]\n",
            " [ 0.13119978]\n",
            " [-0.18854069]\n",
            " [-0.31497253]\n",
            " [ 0.11908795]\n",
            " [ 0.11784494]\n",
            " [-0.31497253]\n",
            " [-0.12461797]\n",
            " [ 0.11784494]\n",
            " [ 0.13119978]\n",
            " [ 0.03207743]\n",
            " [ 0.11774963]\n",
            " [ 0.13119978]\n",
            " [ 0.13119978]\n",
            " [-0.16258071]\n",
            " [-0.40905125]\n",
            " [ 0.11722646]\n",
            " [ 0.11496631]\n",
            " [ 0.13119978]\n",
            " [-0.32897211]\n",
            " [ 0.13119978]\n",
            " [ 0.11496631]\n",
            " [-0.26319216]\n",
            " [ 0.13119978]\n",
            " [ 0.11647529]\n",
            " [-0.27827665]\n",
            " [ 0.12174862]\n",
            " [-0.09389915]\n",
            " [ 0.13119978]\n",
            " [ 0.11647529]\n",
            " [ 0.11026828]\n",
            " [ 0.11722646]\n",
            " [ 0.13119978]\n",
            " [ 0.13119978]\n",
            " [ 0.11852668]\n",
            " [ 0.11647529]\n",
            " [ 0.13119978]\n",
            " [ 0.00654247]\n",
            " [ 0.13119978]\n",
            " [ 0.11722646]\n",
            " [ 0.11234402]\n",
            " [ 0.11908795]\n",
            " [ 0.13119978]\n",
            " [ 0.13119978]\n",
            " [ 0.12021591]\n",
            " [ 0.11485063]\n",
            " [ 0.11712678]\n",
            " [ 0.11784494]\n",
            " [ 0.13119978]\n",
            " [ 0.10945726]\n",
            " [ 0.13119978]\n",
            " [-0.12623831]\n",
            " [ 0.11496631]\n",
            " [-0.35148366]\n",
            " [ 0.11784494]\n",
            " [-0.21642184]\n",
            " [ 0.13119978]\n",
            " [ 0.13119978]\n",
            " [-0.01860681]\n",
            " [-0.21642184]\n",
            " [-0.21852921]\n",
            " [ 0.13119978]\n",
            " [ 0.11330407]\n",
            " [-0.3124018 ]\n",
            " [ 0.13119978]\n",
            " [ 0.11647529]\n",
            " [ 0.13119978]\n",
            " [-0.47489784]\n",
            " [ 0.11119166]\n",
            " [ 0.13119978]\n",
            " [-0.59599407]\n",
            " [-0.10325513]\n",
            " [-0.10475554]\n",
            " [ 0.11722646]\n",
            " [ 0.13119978]\n",
            " [ 0.13119978]\n",
            " [-0.01860681]\n",
            " [ 0.11496631]\n",
            " [-0.13845486]]\n",
            " 600/1000 | Loss: [[-0.05909736]\n",
            " [ 0.11364827]\n",
            " [ 0.11311956]\n",
            " [ 0.12424402]\n",
            " [-0.23408024]\n",
            " [ 0.12424402]\n",
            " [ 0.11174809]\n",
            " [ 0.12424402]\n",
            " [ 0.11424706]\n",
            " [ 0.1103407 ]\n",
            " [-0.04334903]\n",
            " [-0.12293021]\n",
            " [ 0.12424402]\n",
            " [ 0.1152608 ]\n",
            " [-0.30710016]\n",
            " [ 0.12424402]\n",
            " [ 0.12424402]\n",
            " [ 0.11617215]\n",
            " [-0.21682811]\n",
            " [ 0.12424402]\n",
            " [-0.30710016]\n",
            " [ 0.12424402]\n",
            " [ 0.11472243]\n",
            " [-0.47944303]\n",
            " [-0.32797806]\n",
            " [-0.32452732]\n",
            " [-0.58739986]\n",
            " [ 0.12424402]\n",
            " [ 0.1152608 ]\n",
            " [ 0.11568817]\n",
            " [-0.38773801]\n",
            " [ 0.12424402]\n",
            " [ 0.1152608 ]\n",
            " [-0.30710016]\n",
            " [ 0.01905654]\n",
            " [-0.5108289 ]\n",
            " [ 0.12424402]\n",
            " [ 0.12424402]\n",
            " [-0.36471748]\n",
            " [-0.41157947]\n",
            " [ 0.1152608 ]\n",
            " [ 0.10703676]\n",
            " [ 0.12424402]\n",
            " [ 0.12424402]\n",
            " [-0.03315544]\n",
            " [-0.36471748]\n",
            " [ 0.11838955]\n",
            " [ 0.12424402]\n",
            " [ 0.12424402]\n",
            " [ 0.12424402]\n",
            " [ 0.12424402]\n",
            " [ 0.11472243]\n",
            " [ 0.12424402]\n",
            " [-0.17408956]\n",
            " [-0.30710016]\n",
            " [ 0.11617215]\n",
            " [ 0.1152608 ]\n",
            " [-0.30710016]\n",
            " [-0.10843171]\n",
            " [ 0.1152608 ]\n",
            " [ 0.12424402]\n",
            " [ 0.04248129]\n",
            " [ 0.11517531]\n",
            " [ 0.12424402]\n",
            " [ 0.12424402]\n",
            " [-0.14746368]\n",
            " [-0.40764376]\n",
            " [ 0.11481217]\n",
            " [ 0.11311956]\n",
            " [ 0.12424402]\n",
            " [-0.32109747]\n",
            " [ 0.12424402]\n",
            " [ 0.11311956]\n",
            " [-0.25205189]\n",
            " [ 0.12424402]\n",
            " [ 0.11424706]\n",
            " [-0.2676646 ]\n",
            " [ 0.1180967 ]\n",
            " [-0.07791762]\n",
            " [ 0.12424402]\n",
            " [ 0.11424706]\n",
            " [ 0.10950964]\n",
            " [ 0.11481217]\n",
            " [ 0.12424402]\n",
            " [ 0.12424402]\n",
            " [ 0.11576885]\n",
            " [ 0.11424706]\n",
            " [ 0.12424402]\n",
            " [ 0.01905654]\n",
            " [ 0.12424402]\n",
            " [ 0.11481217]\n",
            " [ 0.11112519]\n",
            " [ 0.11617215]\n",
            " [ 0.12424402]\n",
            " [ 0.12424402]\n",
            " [ 0.11699138]\n",
            " [ 0.11301381]\n",
            " [ 0.11472243]\n",
            " [ 0.1152608 ]\n",
            " [ 0.12424402]\n",
            " [ 0.10892137]\n",
            " [ 0.12424402]\n",
            " [-0.11041426]\n",
            " [ 0.11311956]\n",
            " [-0.34606685]\n",
            " [ 0.1152608 ]\n",
            " [-0.20292423]\n",
            " [ 0.12424402]\n",
            " [ 0.12424402]\n",
            " [-0.00459308]\n",
            " [-0.20292423]\n",
            " [-0.20558822]\n",
            " [ 0.12424402]\n",
            " [ 0.11186568]\n",
            " [-0.30377694]\n",
            " [ 0.12424402]\n",
            " [ 0.11424706]\n",
            " [ 0.12424402]\n",
            " [-0.47944303]\n",
            " [ 0.11020871]\n",
            " [ 0.12424402]\n",
            " [-0.61262675]\n",
            " [-0.08705977]\n",
            " [-0.08887899]\n",
            " [ 0.11481217]\n",
            " [ 0.12424402]\n",
            " [ 0.12424402]\n",
            " [-0.00459308]\n",
            " [ 0.11311956]\n",
            " [-0.12293021]]\n",
            " 700/1000 | Loss: [[-0.0458546 ]\n",
            " [ 0.11117424]\n",
            " [ 0.11077686]\n",
            " [ 0.11867157]\n",
            " [-0.22237834]\n",
            " [ 0.11867157]\n",
            " [ 0.1097084 ]\n",
            " [ 0.11867157]\n",
            " [ 0.11163553]\n",
            " [ 0.10861572]\n",
            " [-0.03079949]\n",
            " [-0.10924111]\n",
            " [ 0.11867157]\n",
            " [ 0.11240111]\n",
            " [-0.29888047]\n",
            " [ 0.11867157]\n",
            " [ 0.11867157]\n",
            " [ 0.11308362]\n",
            " [-0.20437461]\n",
            " [ 0.11867157]\n",
            " [-0.29888047]\n",
            " [ 0.11867157]\n",
            " [ 0.11198984]\n",
            " [-0.48171997]\n",
            " [-0.32109479]\n",
            " [-0.3168814 ]\n",
            " [-0.59878452]\n",
            " [ 0.11867157]\n",
            " [ 0.11240111]\n",
            " [ 0.11271698]\n",
            " [-0.38392765]\n",
            " [ 0.11867157]\n",
            " [ 0.11240111]\n",
            " [-0.29888047]\n",
            " [ 0.02869834]\n",
            " [-0.51656457]\n",
            " [ 0.11867157]\n",
            " [ 0.11867157]\n",
            " [-0.35923357]\n",
            " [-0.4095923 ]\n",
            " [ 0.11240111]\n",
            " [ 0.10601711]\n",
            " [ 0.11867157]\n",
            " [ 0.11867157]\n",
            " [-0.02063637]\n",
            " [-0.35923357]\n",
            " [ 0.1147177 ]\n",
            " [ 0.11867157]\n",
            " [ 0.11867157]\n",
            " [ 0.11867157]\n",
            " [ 0.11867157]\n",
            " [ 0.11198984]\n",
            " [ 0.11867157]\n",
            " [-0.16088543]\n",
            " [-0.29888047]\n",
            " [ 0.11308362]\n",
            " [ 0.11240111]\n",
            " [-0.29888047]\n",
            " [-0.09428637]\n",
            " [ 0.11240111]\n",
            " [ 0.11867157]\n",
            " [ 0.05013484]\n",
            " [ 0.11232636]\n",
            " [ 0.11867157]\n",
            " [ 0.11867157]\n",
            " [-0.13390526]\n",
            " [-0.40473127]\n",
            " [ 0.11206854]\n",
            " [ 0.11077686]\n",
            " [ 0.11867157]\n",
            " [-0.31270028]\n",
            " [ 0.11867157]\n",
            " [ 0.11077686]\n",
            " [-0.2412166 ]\n",
            " [ 0.11867157]\n",
            " [ 0.11163553]\n",
            " [-0.25717207]\n",
            " [ 0.11450774]\n",
            " [-0.06427116]\n",
            " [ 0.11867157]\n",
            " [ 0.11163553]\n",
            " [ 0.1079575 ]\n",
            " [ 0.11206854]\n",
            " [ 0.11867157]\n",
            " [ 0.11867157]\n",
            " [ 0.11278714]\n",
            " [ 0.11163553]\n",
            " [ 0.11867157]\n",
            " [ 0.02869834]\n",
            " [ 0.11867157]\n",
            " [ 0.11206854]\n",
            " [ 0.10923369]\n",
            " [ 0.11308362]\n",
            " [ 0.11867157]\n",
            " [ 0.11867157]\n",
            " [ 0.11369202]\n",
            " [ 0.11068283]\n",
            " [ 0.11198984]\n",
            " [ 0.11240111]\n",
            " [ 0.11867157]\n",
            " [ 0.10752314]\n",
            " [ 0.11867157]\n",
            " [-0.09657741]\n",
            " [ 0.11077686]\n",
            " [-0.33985171]\n",
            " [ 0.11240111]\n",
            " [-0.19032863]\n",
            " [ 0.11867157]\n",
            " [ 0.11867157]\n",
            " [ 0.00656862]\n",
            " [-0.19032863]\n",
            " [-0.19350226]\n",
            " [ 0.11867157]\n",
            " [ 0.10981385]\n",
            " [-0.29483877]\n",
            " [ 0.11867157]\n",
            " [ 0.11163553]\n",
            " [ 0.11867157]\n",
            " [-0.48171997]\n",
            " [ 0.10849608]\n",
            " [ 0.11867157]\n",
            " [-0.62566552]\n",
            " [-0.07312821]\n",
            " [-0.07521304]\n",
            " [ 0.11206854]\n",
            " [ 0.11867157]\n",
            " [ 0.11867157]\n",
            " [ 0.00656862]\n",
            " [ 0.11077686]\n",
            " [-0.10924111]]\n",
            " 800/1000 | Loss: [[-0.03464853]\n",
            " [ 0.10858888]\n",
            " [ 0.10828495]\n",
            " [ 0.11404437]\n",
            " [-0.21140705]\n",
            " [ 0.11404437]\n",
            " [ 0.10744045]\n",
            " [ 0.11404437]\n",
            " [ 0.10894979]\n",
            " [ 0.10657938]\n",
            " [-0.02031075]\n",
            " [-0.09717824]\n",
            " [ 0.11404437]\n",
            " [ 0.10953805]\n",
            " [-0.29074793]\n",
            " [ 0.11404437]\n",
            " [ 0.11404437]\n",
            " [ 0.11005852]\n",
            " [-0.19281089]\n",
            " [ 0.11404437]\n",
            " [-0.29074793]\n",
            " [ 0.11404437]\n",
            " [ 0.10921872]\n",
            " [-0.48265486]\n",
            " [-0.31411871]\n",
            " [-0.30917613]\n",
            " [-0.60802903]\n",
            " [ 0.11404437]\n",
            " [ 0.10953805]\n",
            " [ 0.109776  ]\n",
            " [-0.37952241]\n",
            " [ 0.11404437]\n",
            " [ 0.10953805]\n",
            " [-0.29074793]\n",
            " [ 0.03622378]\n",
            " [-0.52075149]\n",
            " [ 0.11404437]\n",
            " [ 0.11404437]\n",
            " [-0.35334653]\n",
            " [-0.40681799]\n",
            " [ 0.10953805]\n",
            " [ 0.10450746]\n",
            " [ 0.11404437]\n",
            " [ 0.11404437]\n",
            " [-0.01026067]\n",
            " [-0.35334653]\n",
            " [ 0.11128669]\n",
            " [ 0.11404437]\n",
            " [ 0.11404437]\n",
            " [ 0.11404437]\n",
            " [ 0.11404437]\n",
            " [ 0.10921872]\n",
            " [ 0.11404437]\n",
            " [-0.14891651]\n",
            " [-0.29074793]\n",
            " [ 0.11005852]\n",
            " [ 0.10953805]\n",
            " [-0.29074793]\n",
            " [-0.08191757]\n",
            " [ 0.10953805]\n",
            " [ 0.11404437]\n",
            " [ 0.05583918]\n",
            " [ 0.10947349]\n",
            " [ 0.11404437]\n",
            " [ 0.11404437]\n",
            " [-0.12179219]\n",
            " [-0.40105428]\n",
            " [ 0.10928687]\n",
            " [ 0.10828495]\n",
            " [ 0.11404437]\n",
            " [-0.30427948]\n",
            " [ 0.11404437]\n",
            " [ 0.10828495]\n",
            " [-0.23094794]\n",
            " [ 0.11404437]\n",
            " [ 0.10894979]\n",
            " [-0.2471186 ]\n",
            " [ 0.11113284]\n",
            " [-0.05256947]\n",
            " [ 0.11404437]\n",
            " [ 0.10894979]\n",
            " [ 0.10605123]\n",
            " [ 0.10928687]\n",
            " [ 0.11404437]\n",
            " [ 0.11404437]\n",
            " [ 0.10983629]\n",
            " [ 0.10894979]\n",
            " [ 0.11404437]\n",
            " [ 0.03622378]\n",
            " [ 0.11404437]\n",
            " [ 0.10928687]\n",
            " [ 0.10707276]\n",
            " [ 0.11005852]\n",
            " [ 0.11404437]\n",
            " [ 0.11404437]\n",
            " [ 0.11051899]\n",
            " [ 0.10820249]\n",
            " [ 0.10921872]\n",
            " [ 0.10953805]\n",
            " [ 0.11404437]\n",
            " [ 0.10572547]\n",
            " [ 0.11404437]\n",
            " [-0.0844696 ]\n",
            " [ 0.10828495]\n",
            " [-0.33339184]\n",
            " [ 0.10953805]\n",
            " [-0.17872958]\n",
            " [ 0.11404437]\n",
            " [ 0.11404437]\n",
            " [ 0.01555929]\n",
            " [-0.17872958]\n",
            " [-0.18236742]\n",
            " [ 0.11404437]\n",
            " [ 0.10753363]\n",
            " [-0.28602455]\n",
            " [ 0.11404437]\n",
            " [ 0.10894979]\n",
            " [ 0.11404437]\n",
            " [-0.48265486]\n",
            " [ 0.1064726 ]\n",
            " [ 0.11404437]\n",
            " [-0.63635668]\n",
            " [-0.06110785]\n",
            " [-0.06341227]\n",
            " [ 0.10928687]\n",
            " [ 0.11404437]\n",
            " [ 0.11404437]\n",
            " [ 0.01555929]\n",
            " [ 0.10828495]\n",
            " [-0.09717824]]\n",
            " 900/1000 | Loss: [[-0.02509703]\n",
            " [ 0.10604074]\n",
            " [ 0.10580473]\n",
            " [ 0.11010202]\n",
            " [-0.20120257]\n",
            " [ 0.11010202]\n",
            " [ 0.10512874]\n",
            " [ 0.11010202]\n",
            " [ 0.10632692]\n",
            " [ 0.10444128]\n",
            " [-0.01146931]\n",
            " [-0.08651574]\n",
            " [ 0.11010202]\n",
            " [ 0.10678576]\n",
            " [-0.28288954]\n",
            " [ 0.11010202]\n",
            " [ 0.11010202]\n",
            " [ 0.10718892]\n",
            " [-0.18213575]\n",
            " [ 0.11010202]\n",
            " [-0.28288954]\n",
            " [ 0.11010202]\n",
            " [ 0.1065343 ]\n",
            " [-0.48275714]\n",
            " [-0.30727518]\n",
            " [-0.30163737]\n",
            " [-0.61580764]\n",
            " [ 0.11010202]\n",
            " [ 0.10678576]\n",
            " [ 0.10696798]\n",
            " [-0.37486686]\n",
            " [ 0.11010202]\n",
            " [ 0.10678576]\n",
            " [-0.28288954]\n",
            " [ 0.04216149]\n",
            " [-0.52393395]\n",
            " [ 0.11010202]\n",
            " [ 0.11010202]\n",
            " [-0.34736155]\n",
            " [-0.4036403 ]\n",
            " [ 0.10678576]\n",
            " [ 0.10276923]\n",
            " [ 0.11010202]\n",
            " [ 0.11010202]\n",
            " [-0.00158603]\n",
            " [-0.34736155]\n",
            " [ 0.10812769]\n",
            " [ 0.11010202]\n",
            " [ 0.11010202]\n",
            " [ 0.11010202]\n",
            " [ 0.11010202]\n",
            " [ 0.1065343 ]\n",
            " [ 0.11010202]\n",
            " [-0.13808026]\n",
            " [-0.28288954]\n",
            " [ 0.10718892]\n",
            " [ 0.10678576]\n",
            " [-0.28288954]\n",
            " [-0.07106193]\n",
            " [ 0.10678576]\n",
            " [ 0.11010202]\n",
            " [ 0.06013002]\n",
            " [ 0.1067303 ]\n",
            " [ 0.11010202]\n",
            " [ 0.11010202]\n",
            " [-0.11095812]\n",
            " [-0.39699924]\n",
            " [ 0.10659298]\n",
            " [ 0.10580473]\n",
            " [ 0.11010202]\n",
            " [-0.29606126]\n",
            " [ 0.11010202]\n",
            " [ 0.10580473]\n",
            " [-0.2213197 ]\n",
            " [ 0.11010202]\n",
            " [ 0.10632692]\n",
            " [-0.23761444]\n",
            " [ 0.10801283]\n",
            " [-0.04247513]\n",
            " [ 0.11010202]\n",
            " [ 0.10632692]\n",
            " [ 0.10401258]\n",
            " [ 0.10659298]\n",
            " [ 0.11010202]\n",
            " [ 0.11010202]\n",
            " [ 0.10701953]\n",
            " [ 0.10632692]\n",
            " [ 0.11010202]\n",
            " [ 0.04216149]\n",
            " [ 0.11010202]\n",
            " [ 0.10659298]\n",
            " [ 0.10483988]\n",
            " [ 0.10718892]\n",
            " [ 0.11010202]\n",
            " [ 0.11010202]\n",
            " [ 0.10754312]\n",
            " [ 0.1057329 ]\n",
            " [ 0.1065343 ]\n",
            " [ 0.10678576]\n",
            " [ 0.11010202]\n",
            " [ 0.10376491]\n",
            " [ 0.11010202]\n",
            " [-0.07383386]\n",
            " [ 0.10580473]\n",
            " [-0.32695203]\n",
            " [ 0.10678576]\n",
            " [-0.16809221]\n",
            " [ 0.11010202]\n",
            " [ 0.11010202]\n",
            " [ 0.02287586]\n",
            " [-0.16809221]\n",
            " [-0.17215211]\n",
            " [ 0.11010202]\n",
            " [ 0.10521048]\n",
            " [-0.27752113]\n",
            " [ 0.11010202]\n",
            " [ 0.10632692]\n",
            " [ 0.11010202]\n",
            " [-0.48275714]\n",
            " [ 0.10434673]\n",
            " [ 0.11010202]\n",
            " [-0.64542129]\n",
            " [-0.05068217]\n",
            " [-0.0531671 ]\n",
            " [ 0.10659298]\n",
            " [ 0.11010202]\n",
            " [ 0.11010202]\n",
            " [ 0.02287586]\n",
            " [ 0.10580473]\n",
            " [-0.08651574]]\n"
          ],
          "name": "stdout"
        },
        {
          "output_type": "stream",
          "text": [
            "\n"
          ],
          "name": "stderr"
        }
      ]
    },
    {
      "cell_type": "code",
      "metadata": {
        "id": "EW9MosfCiVFT",
        "colab_type": "code",
        "colab": {
          "base_uri": "https://localhost:8080/",
          "height": 67
        },
        "outputId": "794a7279-12e1-4b7e-a669-0abd55b8ea98"
      },
      "source": [
        "print(f\"Weight: {Weight}\\nBias: {Bias}\")"
      ],
      "execution_count": 31,
      "outputs": [
        {
          "output_type": "stream",
          "text": [
            "Weight: [[1.36166979]\n",
            " [0.77557785]]\n",
            "Bias: -8.05595724456309\n"
          ],
          "name": "stdout"
        }
      ]
    },
    {
      "cell_type": "markdown",
      "metadata": {
        "id": "EUqzLXxisiDx",
        "colab_type": "text"
      },
      "source": [
        "***Analyze the predictions made by the model during training ***"
      ]
    },
    {
      "cell_type": "code",
      "metadata": {
        "colab_type": "code",
        "id": "nx8Rs9rfEZ1R",
        "colab": {}
      },
      "source": [
        "def predict_train(y_pred):\n",
        "\n",
        "  preds = []\n",
        "\n",
        "  for each_pred in y_pred:\n",
        "    if each_pred > 0.5:\n",
        "      preds.append(1)\n",
        "    else:\n",
        "      preds.append(0)\n",
        "\n",
        "  return preds"
      ],
      "execution_count": 32,
      "outputs": []
    },
    {
      "cell_type": "markdown",
      "metadata": {
        "id": "2OyVnDkMsxyR",
        "colab_type": "text"
      },
      "source": [
        "**Compute F! Score using SK Learn**"
      ]
    },
    {
      "cell_type": "code",
      "metadata": {
        "id": "Ow1_G6lNDPhw",
        "colab_type": "code",
        "colab": {
          "base_uri": "https://localhost:8080/",
          "height": 34
        },
        "outputId": "ce23ceca-2fac-4969-8d92-4da283bcd634"
      },
      "source": [
        "train_pred = predict_train(y_hat)\n",
        "\n",
        "from sklearn.metrics import f1_score\n",
        "f1_score(train_pred, y_train)"
      ],
      "execution_count": 33,
      "outputs": [
        {
          "output_type": "execute_result",
          "data": {
            "text/plain": [
              "0.9523809523809523"
            ]
          },
          "metadata": {
            "tags": []
          },
          "execution_count": 33
        }
      ]
    },
    {
      "cell_type": "markdown",
      "metadata": {
        "id": "JimeDm8Ls2VU",
        "colab_type": "text"
      },
      "source": [
        "**Inference on F1-Score: 0.95**"
      ]
    },
    {
      "cell_type": "code",
      "metadata": {
        "id": "NetMHGM5DPin",
        "colab_type": "code",
        "colab": {
          "base_uri": "https://localhost:8080/",
          "height": 269
        },
        "outputId": "4131aded-beed-4c61-e96f-0c351bdbcd2f"
      },
      "source": [
        "plt.scatter(X_train.iloc[:, 0], X_train.iloc[:, 1], c=y_train.ravel())\n",
        "\n",
        "ax = plt.gca()\n",
        "\n",
        "xvals = np.array(ax.get_xlim()).reshape(-1, 1)\n",
        "yvals = -(xvals * Weight[0][0] + Bias) / Weight[1][0]\n",
        "\n",
        "plt.plot(xvals, yvals)\n",
        "plt.ylim(-1, 3)\n",
        "\n",
        "plt.show()"
      ],
      "execution_count": 34,
      "outputs": [
        {
          "output_type": "display_data",
          "data": {
            "image/png": "[encoded data removed]",
            "text/plain": [
              "<Figure size 432x288 with 1 Axes>"
            ]
          },
          "metadata": {
            "tags": [],
            "needs_background": "light"
          }
        }
      ]
    },
    {
      "cell_type": "markdown",
      "metadata": {
        "id": "FBX0qHlBAGLs",
        "colab_type": "text"
      },
      "source": [
        "**Test the Model**"
      ]
    },
    {
      "cell_type": "code",
      "metadata": {
        "id": "2QskVhYbAIXI",
        "colab_type": "code",
        "colab": {}
      },
      "source": [
        "def predict_test(weight, bias):\n",
        "\n",
        "    \n",
        "    test_predict = []\n",
        "    x_test = np.array(X_test)\n",
        "    N = len(x_test)\n",
        "\n",
        "    for idx in range(N):\n",
        "        z=np.matmul(weight.T,x_test[idx].reshape(-1,1) )+bias\n",
        "        \n",
        "        if Sigmoid(z) >= 0.5: # sigmoid(w,x,b) returns 1/(1+exp(-(dot(x,w)+b)))\n",
        "            test_predict.append(1)\n",
        "        else:\n",
        "            test_predict.append(0)\n",
        "    return test_predict"
      ],
      "execution_count": 35,
      "outputs": []
    },
    {
      "cell_type": "code",
      "metadata": {
        "id": "xrirw2PtD8yd",
        "colab_type": "code",
        "colab": {
          "base_uri": "https://localhost:8080/",
          "height": 34
        },
        "outputId": "741f12e8-a2db-43ae-b4ba-6a160bc7bf41"
      },
      "source": [
        "test_predict = predict_test(Weight, Bias)\n",
        "print(test_predict)"
      ],
      "execution_count": 36,
      "outputs": [
        {
          "output_type": "stream",
          "text": [
            "[0, 0, 1, 1, 1, 1, 0, 0, 1, 1, 0, 0, 0, 0, 0, 0, 0, 0, 0, 0]\n"
          ],
          "name": "stdout"
        }
      ]
    },
    {
      "cell_type": "code",
      "metadata": {
        "id": "KgPB-MUeHXsi",
        "colab_type": "code",
        "colab": {
          "base_uri": "https://localhost:8080/",
          "height": 353
        },
        "outputId": "cde03395-03b7-4e3e-a427-2a31bf5bdb39"
      },
      "source": [
        "print(y_test); "
      ],
      "execution_count": 37,
      "outputs": [
        {
          "output_type": "stream",
          "text": [
            "[[0]\n",
            " [0]\n",
            " [1]\n",
            " [1]\n",
            " [1]\n",
            " [1]\n",
            " [0]\n",
            " [0]\n",
            " [1]\n",
            " [1]\n",
            " [1]\n",
            " [0]\n",
            " [0]\n",
            " [0]\n",
            " [0]\n",
            " [1]\n",
            " [0]\n",
            " [0]\n",
            " [0]\n",
            " [0]]\n"
          ],
          "name": "stdout"
        }
      ]
    },
    {
      "cell_type": "code",
      "metadata": {
        "id": "QvPQFGXUHQaY",
        "colab_type": "code",
        "colab": {
          "base_uri": "https://localhost:8080/",
          "height": 34
        },
        "outputId": "a10976b9-c2fe-45b3-e24f-e7ba572d6ae3"
      },
      "source": [
        "print( (1-np.sum(y_test  - test_predict)) /len(X_test))"
      ],
      "execution_count": 38,
      "outputs": [
        {
          "output_type": "stream",
          "text": [
            "-1.95\n"
          ],
          "name": "stdout"
        }
      ]
    },
    {
      "cell_type": "code",
      "metadata": {
        "id": "C7fRNPT0guzK",
        "colab_type": "code",
        "colab": {}
      },
      "source": [
        "test_predict = np.array(test_predict)"
      ],
      "execution_count": 41,
      "outputs": []
    },
    {
      "cell_type": "code",
      "metadata": {
        "id": "DOy7JgyuJYLi",
        "colab_type": "code",
        "colab": {
          "base_uri": "https://localhost:8080/",
          "height": 269
        },
        "outputId": "ab4f9f43-888f-4820-ff1a-507c0ac3dd88"
      },
      "source": [
        "plt.scatter(X_test.iloc[:, 0], X_test.iloc[:, 1], c=test_predict.ravel())\n",
        "\n",
        "ax = plt.gca()\n",
        "\n",
        "xvals = np.array(ax.get_xlim()).reshape(-1, 1)\n",
        "yvals = -(xvals * Weight[0][0] + Bias) / Weight[1][0]\n",
        "\n",
        "plt.plot(xvals, yvals)\n",
        "plt.ylim(-1, 3)\n",
        "\n",
        "plt.show()"
      ],
      "execution_count": 42,
      "outputs": [
        {
          "output_type": "display_data",
          "data": {
            "image/png": "[encoded data removed]",
            "text/plain": [
              "<Figure size 432x288 with 1 Axes>"
            ]
          },
          "metadata": {
            "tags": [],
            "needs_background": "light"
          }
        }
      ]
    }
  ]
}