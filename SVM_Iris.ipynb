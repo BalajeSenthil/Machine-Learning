{
  "nbformat": 4,
  "nbformat_minor": 0,
  "metadata": {
    "colab": {
      "name": "SVM_Iris.ipynb",
      "provenance": [],
      "collapsed_sections": []
    },
    "kernelspec": {
      "name": "python3",
      "display_name": "Python 3"
    }
  },
  "cells": [
    {
      "cell_type": "code",
      "metadata": {
        "id": "74g6zSGlHVBW",
        "colab_type": "code",
        "colab": {}
      },
      "source": [
        "import numpy as np\n",
        "import pandas as pd\n",
        "\n",
        "from sklearn.model_selection import train_test_split\n",
        "from sklearn import linear_model\n",
        "\n",
        "from tqdm import tqdm\n",
        "\n",
        "import matplotlib.pyplot as plt\n",
        "\n",
        "import warnings\n",
        "warnings.filterwarnings(\"ignore\")"
      ],
      "execution_count": 2,
      "outputs": []
    },
    {
      "cell_type": "code",
      "metadata": {
        "id": "e7-5QFiQHwkN",
        "colab_type": "code",
        "colab": {
          "base_uri": "https://localhost:8080/",
          "height": 121
        },
        "outputId": "1b78e415-6378-407f-d01c-56d590e2c712"
      },
      "source": [
        "#Code to run on G-colab\n",
        "\n",
        "from google.colab import drive\n",
        "drive.mount('/content/drive')"
      ],
      "execution_count": 3,
      "outputs": [
        {
          "output_type": "stream",
          "text": [
            "Go to this URL in a browser: https://accounts.google.com/o/oauth2/auth?client_id=947318989803-6bn6qk8qdgf4n4g3pfee6491hc0brc4i.apps.googleusercontent.com&redirect_uri=urn%3aietf%3awg%3aoauth%3a2.0%3aoob&response_type=code&scope=email%20https%3a%2f%2fwww.googleapis.com%2fauth%2fdocs.test%20https%3a%2f%2fwww.googleapis.com%2fauth%2fdrive%20https%3a%2f%2fwww.googleapis.com%2fauth%2fdrive.photos.readonly%20https%3a%2f%2fwww.googleapis.com%2fauth%2fpeopleapi.readonly\n",
            "\n",
            "Enter your authorization code:\n",
            "··········\n",
            "Mounted at /content/drive\n"
          ],
          "name": "stdout"
        }
      ]
    },
    {
      "cell_type": "code",
      "metadata": {
        "id": "pooCMiUgICMC",
        "colab_type": "code",
        "colab": {
          "base_uri": "https://localhost:8080/",
          "height": 34
        },
        "outputId": "adb821ad-240e-4c0b-8024-1a6695cf682b"
      },
      "source": [
        "#code to run only on G-colab \n",
        "gcolab_project_path = '/content/drive/My Drive/My AI Repository/Dataset/'\n",
        "gcolab_project_path"
      ],
      "execution_count": 4,
      "outputs": [
        {
          "output_type": "execute_result",
          "data": {
            "text/plain": [
              "'/content/drive/My Drive/My AI Repository/Dataset/'"
            ]
          },
          "metadata": {
            "tags": []
          },
          "execution_count": 4
        }
      ]
    },
    {
      "cell_type": "markdown",
      "metadata": {
        "id": "6W8rCWkSIEN7",
        "colab_type": "text"
      },
      "source": [
        "**Load Dataset: IRIS**"
      ]
    },
    {
      "cell_type": "code",
      "metadata": {
        "id": "kw1jW6s_IHNE",
        "colab_type": "code",
        "colab": {}
      },
      "source": [
        "#Code to run on G-colab\n",
        "df_iris = pd.read_csv(gcolab_project_path+'IRIS.csv')"
      ],
      "execution_count": 5,
      "outputs": []
    },
    {
      "cell_type": "code",
      "metadata": {
        "id": "UextmekZIJPj",
        "colab_type": "code",
        "colab": {
          "base_uri": "https://localhost:8080/",
          "height": 195
        },
        "outputId": "8dbcf3f0-5c16-42fc-a1e1-ca0213c111cd"
      },
      "source": [
        "df_iris.head()"
      ],
      "execution_count": 6,
      "outputs": [
        {
          "output_type": "execute_result",
          "data": {
            "text/html": [
              "<div>\n",
              "<style scoped>\n",
              "    .dataframe tbody tr th:only-of-type {\n",
              "        vertical-align: middle;\n",
              "    }\n",
              "\n",
              "    .dataframe tbody tr th {\n",
              "        vertical-align: top;\n",
              "    }\n",
              "\n",
              "    .dataframe thead th {\n",
              "        text-align: right;\n",
              "    }\n",
              "</style>\n",
              "<table border=\"1\" class=\"dataframe\">\n",
              "  <thead>\n",
              "    <tr style=\"text-align: right;\">\n",
              "      <th></th>\n",
              "      <th>sepal_length</th>\n",
              "      <th>sepal_width</th>\n",
              "      <th>petal_length</th>\n",
              "      <th>petal_width</th>\n",
              "      <th>species</th>\n",
              "    </tr>\n",
              "  </thead>\n",
              "  <tbody>\n",
              "    <tr>\n",
              "      <th>0</th>\n",
              "      <td>5.1</td>\n",
              "      <td>3.5</td>\n",
              "      <td>1.4</td>\n",
              "      <td>0.2</td>\n",
              "      <td>Iris-setosa</td>\n",
              "    </tr>\n",
              "    <tr>\n",
              "      <th>1</th>\n",
              "      <td>4.9</td>\n",
              "      <td>3.0</td>\n",
              "      <td>1.4</td>\n",
              "      <td>0.2</td>\n",
              "      <td>Iris-setosa</td>\n",
              "    </tr>\n",
              "    <tr>\n",
              "      <th>2</th>\n",
              "      <td>4.7</td>\n",
              "      <td>3.2</td>\n",
              "      <td>1.3</td>\n",
              "      <td>0.2</td>\n",
              "      <td>Iris-setosa</td>\n",
              "    </tr>\n",
              "    <tr>\n",
              "      <th>3</th>\n",
              "      <td>4.6</td>\n",
              "      <td>3.1</td>\n",
              "      <td>1.5</td>\n",
              "      <td>0.2</td>\n",
              "      <td>Iris-setosa</td>\n",
              "    </tr>\n",
              "    <tr>\n",
              "      <th>4</th>\n",
              "      <td>5.0</td>\n",
              "      <td>3.6</td>\n",
              "      <td>1.4</td>\n",
              "      <td>0.2</td>\n",
              "      <td>Iris-setosa</td>\n",
              "    </tr>\n",
              "  </tbody>\n",
              "</table>\n",
              "</div>"
            ],
            "text/plain": [
              "   sepal_length  sepal_width  petal_length  petal_width      species\n",
              "0           5.1          3.5           1.4          0.2  Iris-setosa\n",
              "1           4.9          3.0           1.4          0.2  Iris-setosa\n",
              "2           4.7          3.2           1.3          0.2  Iris-setosa\n",
              "3           4.6          3.1           1.5          0.2  Iris-setosa\n",
              "4           5.0          3.6           1.4          0.2  Iris-setosa"
            ]
          },
          "metadata": {
            "tags": []
          },
          "execution_count": 6
        }
      ]
    },
    {
      "cell_type": "code",
      "metadata": {
        "id": "T_o_PMciJbft",
        "colab_type": "code",
        "colab": {
          "base_uri": "https://localhost:8080/",
          "height": 195
        },
        "outputId": "57e57c40-8fbb-4d83-db1e-45f7caa7d5ca"
      },
      "source": [
        "df_iris.tail()"
      ],
      "execution_count": 7,
      "outputs": [
        {
          "output_type": "execute_result",
          "data": {
            "text/html": [
              "<div>\n",
              "<style scoped>\n",
              "    .dataframe tbody tr th:only-of-type {\n",
              "        vertical-align: middle;\n",
              "    }\n",
              "\n",
              "    .dataframe tbody tr th {\n",
              "        vertical-align: top;\n",
              "    }\n",
              "\n",
              "    .dataframe thead th {\n",
              "        text-align: right;\n",
              "    }\n",
              "</style>\n",
              "<table border=\"1\" class=\"dataframe\">\n",
              "  <thead>\n",
              "    <tr style=\"text-align: right;\">\n",
              "      <th></th>\n",
              "      <th>sepal_length</th>\n",
              "      <th>sepal_width</th>\n",
              "      <th>petal_length</th>\n",
              "      <th>petal_width</th>\n",
              "      <th>species</th>\n",
              "    </tr>\n",
              "  </thead>\n",
              "  <tbody>\n",
              "    <tr>\n",
              "      <th>145</th>\n",
              "      <td>6.7</td>\n",
              "      <td>3.0</td>\n",
              "      <td>5.2</td>\n",
              "      <td>2.3</td>\n",
              "      <td>Iris-virginica</td>\n",
              "    </tr>\n",
              "    <tr>\n",
              "      <th>146</th>\n",
              "      <td>6.3</td>\n",
              "      <td>2.5</td>\n",
              "      <td>5.0</td>\n",
              "      <td>1.9</td>\n",
              "      <td>Iris-virginica</td>\n",
              "    </tr>\n",
              "    <tr>\n",
              "      <th>147</th>\n",
              "      <td>6.5</td>\n",
              "      <td>3.0</td>\n",
              "      <td>5.2</td>\n",
              "      <td>2.0</td>\n",
              "      <td>Iris-virginica</td>\n",
              "    </tr>\n",
              "    <tr>\n",
              "      <th>148</th>\n",
              "      <td>6.2</td>\n",
              "      <td>3.4</td>\n",
              "      <td>5.4</td>\n",
              "      <td>2.3</td>\n",
              "      <td>Iris-virginica</td>\n",
              "    </tr>\n",
              "    <tr>\n",
              "      <th>149</th>\n",
              "      <td>5.9</td>\n",
              "      <td>3.0</td>\n",
              "      <td>5.1</td>\n",
              "      <td>1.8</td>\n",
              "      <td>Iris-virginica</td>\n",
              "    </tr>\n",
              "  </tbody>\n",
              "</table>\n",
              "</div>"
            ],
            "text/plain": [
              "     sepal_length  sepal_width  petal_length  petal_width         species\n",
              "145           6.7          3.0           5.2          2.3  Iris-virginica\n",
              "146           6.3          2.5           5.0          1.9  Iris-virginica\n",
              "147           6.5          3.0           5.2          2.0  Iris-virginica\n",
              "148           6.2          3.4           5.4          2.3  Iris-virginica\n",
              "149           5.9          3.0           5.1          1.8  Iris-virginica"
            ]
          },
          "metadata": {
            "tags": []
          },
          "execution_count": 7
        }
      ]
    },
    {
      "cell_type": "markdown",
      "metadata": {
        "id": "ThpbDrFLIU9G",
        "colab_type": "text"
      },
      "source": [
        "IRIS dataset contains 3 categories/classess. We need only two(binary) classes for the classification purpose. \n",
        "<br>SVM is a supervised machine learning classification algorithm.\n",
        "<br>Let us remove the last classification /class called 'Virginica'  "
      ]
    },
    {
      "cell_type": "code",
      "metadata": {
        "id": "AzpZzuIrJWaA",
        "colab_type": "code",
        "colab": {
          "base_uri": "https://localhost:8080/",
          "height": 195
        },
        "outputId": "a50c5d82-9c0d-45a8-f10f-71c07b1b7c27"
      },
      "source": [
        "df_iris = df_iris[0:100]\n",
        "df_iris.tail()"
      ],
      "execution_count": 8,
      "outputs": [
        {
          "output_type": "execute_result",
          "data": {
            "text/html": [
              "<div>\n",
              "<style scoped>\n",
              "    .dataframe tbody tr th:only-of-type {\n",
              "        vertical-align: middle;\n",
              "    }\n",
              "\n",
              "    .dataframe tbody tr th {\n",
              "        vertical-align: top;\n",
              "    }\n",
              "\n",
              "    .dataframe thead th {\n",
              "        text-align: right;\n",
              "    }\n",
              "</style>\n",
              "<table border=\"1\" class=\"dataframe\">\n",
              "  <thead>\n",
              "    <tr style=\"text-align: right;\">\n",
              "      <th></th>\n",
              "      <th>sepal_length</th>\n",
              "      <th>sepal_width</th>\n",
              "      <th>petal_length</th>\n",
              "      <th>petal_width</th>\n",
              "      <th>species</th>\n",
              "    </tr>\n",
              "  </thead>\n",
              "  <tbody>\n",
              "    <tr>\n",
              "      <th>95</th>\n",
              "      <td>5.7</td>\n",
              "      <td>3.0</td>\n",
              "      <td>4.2</td>\n",
              "      <td>1.2</td>\n",
              "      <td>Iris-versicolor</td>\n",
              "    </tr>\n",
              "    <tr>\n",
              "      <th>96</th>\n",
              "      <td>5.7</td>\n",
              "      <td>2.9</td>\n",
              "      <td>4.2</td>\n",
              "      <td>1.3</td>\n",
              "      <td>Iris-versicolor</td>\n",
              "    </tr>\n",
              "    <tr>\n",
              "      <th>97</th>\n",
              "      <td>6.2</td>\n",
              "      <td>2.9</td>\n",
              "      <td>4.3</td>\n",
              "      <td>1.3</td>\n",
              "      <td>Iris-versicolor</td>\n",
              "    </tr>\n",
              "    <tr>\n",
              "      <th>98</th>\n",
              "      <td>5.1</td>\n",
              "      <td>2.5</td>\n",
              "      <td>3.0</td>\n",
              "      <td>1.1</td>\n",
              "      <td>Iris-versicolor</td>\n",
              "    </tr>\n",
              "    <tr>\n",
              "      <th>99</th>\n",
              "      <td>5.7</td>\n",
              "      <td>2.8</td>\n",
              "      <td>4.1</td>\n",
              "      <td>1.3</td>\n",
              "      <td>Iris-versicolor</td>\n",
              "    </tr>\n",
              "  </tbody>\n",
              "</table>\n",
              "</div>"
            ],
            "text/plain": [
              "    sepal_length  sepal_width  petal_length  petal_width          species\n",
              "95           5.7          3.0           4.2          1.2  Iris-versicolor\n",
              "96           5.7          2.9           4.2          1.3  Iris-versicolor\n",
              "97           6.2          2.9           4.3          1.3  Iris-versicolor\n",
              "98           5.1          2.5           3.0          1.1  Iris-versicolor\n",
              "99           5.7          2.8           4.1          1.3  Iris-versicolor"
            ]
          },
          "metadata": {
            "tags": []
          },
          "execution_count": 8
        }
      ]
    },
    {
      "cell_type": "markdown",
      "metadata": {
        "id": "mkFkct0eKAVV",
        "colab_type": "text"
      },
      "source": [
        "split IRIS dataset \n",
        "<br>1)   X (features) and y(labels)\n",
        "<br>2)   In X, our focus is into SepalLength and PetalLength (1, 3 --> indices)"
      ]
    },
    {
      "cell_type": "code",
      "metadata": {
        "id": "zEXi1_KiKP8n",
        "colab_type": "code",
        "colab": {}
      },
      "source": [
        "#Extracts only two inputs feature (X) and a target (y) \n",
        "df_iris = df_iris.loc[:, ['sepal_length','petal_length', 'species']]\n",
        "\n",
        "#Split into X and y\n",
        "X = df_iris.loc[:, ['sepal_length','petal_length']]\n",
        "y = df_iris.loc[:, ['species']]\n"
      ],
      "execution_count": 9,
      "outputs": []
    },
    {
      "cell_type": "code",
      "metadata": {
        "id": "2JG_qPziMEtn",
        "colab_type": "code",
        "colab": {
          "base_uri": "https://localhost:8080/",
          "height": 195
        },
        "outputId": "b5d9883b-036e-4532-d1fe-665c92db5c85"
      },
      "source": [
        "X.head()"
      ],
      "execution_count": 10,
      "outputs": [
        {
          "output_type": "execute_result",
          "data": {
            "text/html": [
              "<div>\n",
              "<style scoped>\n",
              "    .dataframe tbody tr th:only-of-type {\n",
              "        vertical-align: middle;\n",
              "    }\n",
              "\n",
              "    .dataframe tbody tr th {\n",
              "        vertical-align: top;\n",
              "    }\n",
              "\n",
              "    .dataframe thead th {\n",
              "        text-align: right;\n",
              "    }\n",
              "</style>\n",
              "<table border=\"1\" class=\"dataframe\">\n",
              "  <thead>\n",
              "    <tr style=\"text-align: right;\">\n",
              "      <th></th>\n",
              "      <th>sepal_length</th>\n",
              "      <th>petal_length</th>\n",
              "    </tr>\n",
              "  </thead>\n",
              "  <tbody>\n",
              "    <tr>\n",
              "      <th>0</th>\n",
              "      <td>5.1</td>\n",
              "      <td>1.4</td>\n",
              "    </tr>\n",
              "    <tr>\n",
              "      <th>1</th>\n",
              "      <td>4.9</td>\n",
              "      <td>1.4</td>\n",
              "    </tr>\n",
              "    <tr>\n",
              "      <th>2</th>\n",
              "      <td>4.7</td>\n",
              "      <td>1.3</td>\n",
              "    </tr>\n",
              "    <tr>\n",
              "      <th>3</th>\n",
              "      <td>4.6</td>\n",
              "      <td>1.5</td>\n",
              "    </tr>\n",
              "    <tr>\n",
              "      <th>4</th>\n",
              "      <td>5.0</td>\n",
              "      <td>1.4</td>\n",
              "    </tr>\n",
              "  </tbody>\n",
              "</table>\n",
              "</div>"
            ],
            "text/plain": [
              "   sepal_length  petal_length\n",
              "0           5.1           1.4\n",
              "1           4.9           1.4\n",
              "2           4.7           1.3\n",
              "3           4.6           1.5\n",
              "4           5.0           1.4"
            ]
          },
          "metadata": {
            "tags": []
          },
          "execution_count": 10
        }
      ]
    },
    {
      "cell_type": "code",
      "metadata": {
        "id": "lupCZ_p1MH1-",
        "colab_type": "code",
        "colab": {
          "base_uri": "https://localhost:8080/",
          "height": 195
        },
        "outputId": "391562d6-f124-43b5-c324-5f470fdfd55a"
      },
      "source": [
        "y.head()"
      ],
      "execution_count": 11,
      "outputs": [
        {
          "output_type": "execute_result",
          "data": {
            "text/html": [
              "<div>\n",
              "<style scoped>\n",
              "    .dataframe tbody tr th:only-of-type {\n",
              "        vertical-align: middle;\n",
              "    }\n",
              "\n",
              "    .dataframe tbody tr th {\n",
              "        vertical-align: top;\n",
              "    }\n",
              "\n",
              "    .dataframe thead th {\n",
              "        text-align: right;\n",
              "    }\n",
              "</style>\n",
              "<table border=\"1\" class=\"dataframe\">\n",
              "  <thead>\n",
              "    <tr style=\"text-align: right;\">\n",
              "      <th></th>\n",
              "      <th>species</th>\n",
              "    </tr>\n",
              "  </thead>\n",
              "  <tbody>\n",
              "    <tr>\n",
              "      <th>0</th>\n",
              "      <td>Iris-setosa</td>\n",
              "    </tr>\n",
              "    <tr>\n",
              "      <th>1</th>\n",
              "      <td>Iris-setosa</td>\n",
              "    </tr>\n",
              "    <tr>\n",
              "      <th>2</th>\n",
              "      <td>Iris-setosa</td>\n",
              "    </tr>\n",
              "    <tr>\n",
              "      <th>3</th>\n",
              "      <td>Iris-setosa</td>\n",
              "    </tr>\n",
              "    <tr>\n",
              "      <th>4</th>\n",
              "      <td>Iris-setosa</td>\n",
              "    </tr>\n",
              "  </tbody>\n",
              "</table>\n",
              "</div>"
            ],
            "text/plain": [
              "       species\n",
              "0  Iris-setosa\n",
              "1  Iris-setosa\n",
              "2  Iris-setosa\n",
              "3  Iris-setosa\n",
              "4  Iris-setosa"
            ]
          },
          "metadata": {
            "tags": []
          },
          "execution_count": 11
        }
      ]
    },
    {
      "cell_type": "markdown",
      "metadata": {
        "id": "E3RhuHoTN2oW",
        "colab_type": "text"
      },
      "source": [
        "**Visualize Sepal_Lenth vs Petal_Length**"
      ]
    },
    {
      "cell_type": "code",
      "metadata": {
        "id": "8BxbVF48N7NF",
        "colab_type": "code",
        "colab": {
          "base_uri": "https://localhost:8080/",
          "height": 374
        },
        "outputId": "4f015398-c753-4592-c6f2-fb1ba2eabb8c"
      },
      "source": [
        "x_tmp = df_iris['sepal_length']\n",
        "y_tmp = df_iris['petal_length']\n",
        "\n",
        "setosa_x = x_tmp[:50]\n",
        "setosa_y = y_tmp[:50]\n",
        "\n",
        "versicolor_x = x_tmp[50:]\n",
        "versicolor_y = y_tmp[50:]\n",
        "\n",
        "plt.figure(figsize=(8,6))\n",
        "plt.scatter(setosa_x,setosa_y,marker='+',color='green')\n",
        "plt.scatter(versicolor_x,versicolor_y,marker='_',color='red')\n",
        "plt.show()"
      ],
      "execution_count": 12,
      "outputs": [
        {
          "output_type": "display_data",
          "data": {
            "image/png": "[encoded data removed]",
            "text/plain": [
              "<Figure size 576x432 with 1 Axes>"
            ]
          },
          "metadata": {
            "tags": [],
            "needs_background": "light"
          }
        }
      ]
    },
    {
      "cell_type": "markdown",
      "metadata": {
        "id": "aKvJE9r2O5CG",
        "colab_type": "text"
      },
      "source": [
        "**Inference: From the above graph, a linear line can be used to separate the data points**"
      ]
    },
    {
      "cell_type": "markdown",
      "metadata": {
        "id": "qzrutVZmPZq9",
        "colab_type": "text"
      },
      "source": [
        "Encode target /(y) values for system classificiation purpose\n",
        "<br> Iris-setosa as -1\n",
        "<br> Iris-versicolor as 1"
      ]
    },
    {
      "cell_type": "code",
      "metadata": {
        "id": "6BRLYFq5O_Ef",
        "colab_type": "code",
        "colab": {}
      },
      "source": [
        "\n",
        "setosa = [-1 for i in range(50)]  #1st 50 dataset for setosa\n",
        "versicolor = [1 for i in range(50)] #final 50 dataset for versicolor"
      ],
      "execution_count": 13,
      "outputs": []
    },
    {
      "cell_type": "code",
      "metadata": {
        "id": "k0mvn-9ZQZ5V",
        "colab_type": "code",
        "colab": {}
      },
      "source": [
        "#contactenate newly encoded values into 'y'/target column\n",
        "\n",
        "arr_y = np.concatenate([setosa,versicolor ])"
      ],
      "execution_count": 14,
      "outputs": []
    },
    {
      "cell_type": "code",
      "metadata": {
        "id": "kp2sLjFERDw8",
        "colab_type": "code",
        "colab": {
          "base_uri": "https://localhost:8080/",
          "height": 50
        },
        "outputId": "b792f8af-f586-46aa-eb25-91a7cafe52f6"
      },
      "source": [
        "print('Encoded value for Setosa', arr_y[0:5])\n",
        "print('Encoded value for Versicolor', arr_y[95:100])"
      ],
      "execution_count": 15,
      "outputs": [
        {
          "output_type": "stream",
          "text": [
            "Encoded value for Setosa [-1 -1 -1 -1 -1]\n",
            "Encoded value for Versicolor [1 1 1 1 1]\n"
          ],
          "name": "stdout"
        }
      ]
    },
    {
      "cell_type": "code",
      "metadata": {
        "id": "sJt7-yqCR_fk",
        "colab_type": "code",
        "colab": {
          "base_uri": "https://localhost:8080/",
          "height": 34
        },
        "outputId": "78a0a4f8-6fc9-424d-da9b-a8b070c52fe7"
      },
      "source": [
        "type(X), type(arr_y)"
      ],
      "execution_count": 16,
      "outputs": [
        {
          "output_type": "execute_result",
          "data": {
            "text/plain": [
              "(pandas.core.frame.DataFrame, numpy.ndarray)"
            ]
          },
          "metadata": {
            "tags": []
          },
          "execution_count": 16
        }
      ]
    },
    {
      "cell_type": "markdown",
      "metadata": {
        "id": "_Jkzs7fgnHpX",
        "colab_type": "text"
      },
      "source": [
        "**Assign the encoded column value into y (target) dataframe**"
      ]
    },
    {
      "cell_type": "code",
      "metadata": {
        "id": "l1vDogXNnPo1",
        "colab_type": "code",
        "colab": {}
      },
      "source": [
        "y = arr_y    #replaces the encoded values in arr_y -> dataframe y"
      ],
      "execution_count": 17,
      "outputs": []
    },
    {
      "cell_type": "markdown",
      "metadata": {
        "id": "4V0sdVSCS4Uh",
        "colab_type": "text"
      },
      "source": [
        "**Shuffle and Split Dataset by our customized logic**"
      ]
    },
    {
      "cell_type": "code",
      "metadata": {
        "id": "7BUq32XaS3n9",
        "colab_type": "code",
        "colab": {
          "base_uri": "https://localhost:8080/",
          "height": 134
        },
        "outputId": "a2f43043-a704-4c76-c8c5-5bef9683c8c5"
      },
      "source": [
        "#Random permutation for shuffling the dataset\n",
        "perm = np.random.permutation(len(X))\n",
        "type(perm), perm"
      ],
      "execution_count": 18,
      "outputs": [
        {
          "output_type": "execute_result",
          "data": {
            "text/plain": [
              "(numpy.ndarray,\n",
              " array([47, 65, 84, 82,  4, 50, 71, 26, 20, 32, 99, 22, 93, 52, 17, 86, 39,\n",
              "         2, 24, 29, 38, 87, 36, 25, 64, 44, 98,  8, 69, 43, 35, 89, 54, 40,\n",
              "        30, 28, 77, 92, 59, 70, 80, 37, 48, 53, 12,  3, 51, 63, 18, 33,  6,\n",
              "        62, 31, 56, 91, 75,  0, 88, 16, 41, 10, 15, 96, 72, 94, 81, 14, 67,\n",
              "        21, 61, 13,  7, 58, 73, 60, 57, 76, 83, 34, 49, 42, 11, 95, 85, 45,\n",
              "        68, 23, 74, 78, 97, 66,  1, 19, 55, 79,  5, 27, 90, 46,  9]))"
            ]
          },
          "metadata": {
            "tags": []
          },
          "execution_count": 18
        }
      ]
    },
    {
      "cell_type": "markdown",
      "metadata": {
        "id": "oZOBnjVImaqC",
        "colab_type": "text"
      },
      "source": [
        "**Split Train and Test using randomized shuffling\n",
        "Split ratio 90(train):10(test)**"
      ]
    },
    {
      "cell_type": "code",
      "metadata": {
        "id": "fM8KIDkHmpmg",
        "colab_type": "code",
        "colab": {}
      },
      "source": [
        "#Split the datset into Train(X) & Test (y) by the generated Permutation number indices\n",
        "\n",
        "X_train, X_test =  X.iloc[perm][10:], X.iloc[perm][:10]     #X -> Dataframe object\n",
        "y_train, y_test =  y[perm][10:], y[perm][:10]               #y -> NumPy array"
      ],
      "execution_count": 19,
      "outputs": []
    },
    {
      "cell_type": "markdown",
      "metadata": {
        "id": "W4UJwR9Voept",
        "colab_type": "text"
      },
      "source": [
        "**Convert Features(X) into NumPy array objects**"
      ]
    },
    {
      "cell_type": "code",
      "metadata": {
        "id": "CV_KVgv7omTT",
        "colab_type": "code",
        "colab": {}
      },
      "source": [
        "X_train = np.array(X_train);   X_test = np.array(X_test)"
      ],
      "execution_count": 20,
      "outputs": []
    },
    {
      "cell_type": "code",
      "metadata": {
        "id": "SYe6yUEFLPzl",
        "colab_type": "code",
        "colab": {}
      },
      "source": [
        "y_train = y_train.reshape(90,1);    y_test = y_test.reshape(10,1)"
      ],
      "execution_count": 21,
      "outputs": []
    },
    {
      "cell_type": "code",
      "metadata": {
        "id": "yhgzj6QEpGp1",
        "colab_type": "code",
        "colab": {
          "base_uri": "https://localhost:8080/",
          "height": 84
        },
        "outputId": "fc425429-7173-4443-ac5e-c5fd2de08342"
      },
      "source": [
        "print(\"Dataset Shape:\")\n",
        "print(\"==============\")\n",
        "print(f\"X_train: {X_train.shape} y_train: {y_train.shape}\")\n",
        "print(f\"X_test: {X_test.shape}\\t y_test: {y_test.shape}\")"
      ],
      "execution_count": 22,
      "outputs": [
        {
          "output_type": "stream",
          "text": [
            "Dataset Shape:\n",
            "==============\n",
            "X_train: (90, 2) y_train: (90, 1)\n",
            "X_test: (10, 2)\t y_test: (10, 1)\n"
          ],
          "name": "stdout"
        }
      ]
    },
    {
      "cell_type": "code",
      "metadata": {
        "id": "PwYV1B0TK2rI",
        "colab_type": "code",
        "colab": {
          "base_uri": "https://localhost:8080/",
          "height": 34
        },
        "outputId": "f86f5ebc-a0d3-4457-db1d-326b2530f6ed"
      },
      "source": [
        "type(X_train), type(X_test), type(y_train), type(y_test)   #Enusre that data types (NumPy) are consistent "
      ],
      "execution_count": 23,
      "outputs": [
        {
          "output_type": "execute_result",
          "data": {
            "text/plain": [
              "(numpy.ndarray, numpy.ndarray, numpy.ndarray, numpy.ndarray)"
            ]
          },
          "metadata": {
            "tags": []
          },
          "execution_count": 23
        }
      ]
    },
    {
      "cell_type": "markdown",
      "metadata": {
        "id": "3PoAcH2oLEGW",
        "colab_type": "text"
      },
      "source": [
        "**Implement SVM Algorithm**"
      ]
    },
    {
      "cell_type": "markdown",
      "metadata": {
        "id": "NYZ5JxptMJZu",
        "colab_type": "text"
      },
      "source": [
        "**Split those two features separately into f1 and f2**"
      ]
    },
    {
      "cell_type": "code",
      "metadata": {
        "id": "X92O86LdLHI6",
        "colab_type": "code",
        "colab": {}
      },
      "source": [
        "train_f1 = X_train[:,0]    #extracts 1st column sepal length & stores it into train_f1\n",
        "train_f2 = X_train[:,1]    #extracts 2nd column petal length & stores it into train_f2\n",
        "\n",
        "#reshape features to align/synch up with the actual/target value y dimension (n, 1)\n",
        "train_f1 = train_f1.reshape(90,1)\n",
        "train_f2 = train_f2.reshape(90,1)"
      ],
      "execution_count": 24,
      "outputs": []
    },
    {
      "cell_type": "code",
      "metadata": {
        "id": "R_PCveYCMedx",
        "colab_type": "code",
        "colab": {
          "base_uri": "https://localhost:8080/",
          "height": 34
        },
        "outputId": "648c7a50-8187-4be2-acc1-418c7f04b5d3"
      },
      "source": [
        "train_f1.shape, train_f2.shape"
      ],
      "execution_count": 25,
      "outputs": [
        {
          "output_type": "execute_result",
          "data": {
            "text/plain": [
              "((90, 1), (90, 1))"
            ]
          },
          "metadata": {
            "tags": []
          },
          "execution_count": 25
        }
      ]
    },
    {
      "cell_type": "markdown",
      "metadata": {
        "id": "OoDDDLOuMYZx",
        "colab_type": "text"
      },
      "source": [
        "**Initialize Weights and Parameters**"
      ]
    },
    {
      "cell_type": "code",
      "metadata": {
        "id": "7zVPEt8gMa-F",
        "colab_type": "code",
        "colab": {}
      },
      "source": [
        "w1 = np.zeros(train_f1.shape)\n",
        "w2 = np.zeros(train_f2.shape)\n",
        "\n",
        "epochs = 1\n",
        "alpha = 0.0001"
      ],
      "execution_count": 26,
      "outputs": []
    },
    {
      "cell_type": "markdown",
      "metadata": {
        "id": "B_UI9qRUNk5Z",
        "colab_type": "text"
      },
      "source": [
        "**Implement SVM-Core Functionality**"
      ]
    },
    {
      "cell_type": "code",
      "metadata": {
        "id": "LKh1hK2CNi_a",
        "colab_type": "code",
        "colab": {
          "base_uri": "https://localhost:8080/",
          "height": 336
        },
        "outputId": "0a2d3176-98c8-43ce-9db7-e35a526b2d10"
      },
      "source": [
        "cost_train = []\n",
        "while (epochs < 10000):\n",
        "\n",
        "    y = w1 * train_f1 + w2 * train_f2\n",
        "    prod = y * y_train\n",
        "  \n",
        "    if epochs%500 == 0:      print(f\"Iteration: {epochs}\")\n",
        "  \n",
        "    count = 0\n",
        "    for val in prod:\n",
        "        if(val >= 1):         #Updates the gradient from the regularization parameter; if the model correctly predicts our data (no mis-classification)\n",
        "            cost = 0\n",
        "            w1 = w1 - alpha * (2 * 1/epochs * w1)       #α -> alpha(0.0001) is the learning rate \n",
        "            w2 = w2 - alpha * (2 * 1/epochs * w2)\n",
        "            \n",
        "        else:                 #Includes the loss along with the regularization parameter to perform gradient update, a misclassification in prediction by the system.\n",
        "            cost = 1 - val \n",
        "            w1 = w1 + alpha * (train_f1[count] * y_train[count] - 2 * 1/epochs * w1)    #the regularization parameter λ is set to 1/epochs.\n",
        "            w2 = w2 + alpha * (train_f2[count] * y_train[count] - 2 * 1/epochs * w2)    #the regularizing value reduces the number of epochs increases\n",
        "        \n",
        "        count += 1\n",
        "        cost_train.append(cost)\n",
        "    \n",
        "    epochs += 1\n"
      ],
      "execution_count": 27,
      "outputs": [
        {
          "output_type": "stream",
          "text": [
            "Iteration: 500\n",
            "Iteration: 1000\n",
            "Iteration: 1500\n",
            "Iteration: 2000\n",
            "Iteration: 2500\n",
            "Iteration: 3000\n",
            "Iteration: 3500\n",
            "Iteration: 4000\n",
            "Iteration: 4500\n",
            "Iteration: 5000\n",
            "Iteration: 5500\n",
            "Iteration: 6000\n",
            "Iteration: 6500\n",
            "Iteration: 7000\n",
            "Iteration: 7500\n",
            "Iteration: 8000\n",
            "Iteration: 8500\n",
            "Iteration: 9000\n",
            "Iteration: 9500\n"
          ],
          "name": "stdout"
        }
      ]
    },
    {
      "cell_type": "markdown",
      "metadata": {
        "id": "tTBFoc7jlUOm",
        "colab_type": "text"
      },
      "source": [
        "**Accuracy Score produced by our customized SVM algorithm:**"
      ]
    },
    {
      "cell_type": "code",
      "metadata": {
        "id": "QFOiLX87Nx5W",
        "colab_type": "code",
        "colab": {
          "base_uri": "https://localhost:8080/",
          "height": 34
        },
        "outputId": "02faee8a-f9af-476e-a54a-e0a391485dc5"
      },
      "source": [
        "from sklearn.metrics import accuracy_score\n",
        "\n",
        "## Clip the weights \n",
        "index = list(range(10,90))\n",
        "w1 = np.delete(w1,index)\n",
        "w2 = np.delete(w2,index)\n",
        "\n",
        "w1 = w1.reshape(10,1)\n",
        "w2 = w2.reshape(10,1)\n",
        "\n",
        "## Extract the test data features \n",
        "test_f1 = X_test[:,0]\n",
        "test_f2 = X_test[:,1]\n",
        "\n",
        "test_f1 = test_f1.reshape(10,1)\n",
        "test_f2 = test_f2.reshape(10,1)\n",
        "## Predict\n",
        "y_pred = w1 * test_f1 + w2 * test_f2\n",
        "predictions = []\n",
        "for val in y_pred:\n",
        "    if(val > 1):\n",
        "        predictions.append(1)\n",
        "    else:\n",
        "        predictions.append(-1)\n",
        "\n",
        "print(accuracy_score(y_test,predictions))"
      ],
      "execution_count": 28,
      "outputs": [
        {
          "output_type": "stream",
          "text": [
            "1.0\n"
          ],
          "name": "stdout"
        }
      ]
    },
    {
      "cell_type": "markdown",
      "metadata": {
        "id": "T0_iPMQRObkn",
        "colab_type": "text"
      },
      "source": [
        "**Accuracy Score produced using sklearn's SVM library:**"
      ]
    },
    {
      "cell_type": "code",
      "metadata": {
        "id": "Abq1rroDOb1W",
        "colab_type": "code",
        "colab": {
          "base_uri": "https://localhost:8080/",
          "height": 34
        },
        "outputId": "e4f337f1-60eb-4be0-cf5c-00dabdf652a5"
      },
      "source": [
        "from sklearn.svm import SVC\n",
        "from sklearn.metrics import accuracy_score\n",
        "\n",
        "clf = SVC(kernel='linear')\n",
        "clf.fit(X_train,y_train)\n",
        "y_pred = clf.predict(X_test)\n",
        "print(accuracy_score(y_test,y_pred))"
      ],
      "execution_count": 32,
      "outputs": [
        {
          "output_type": "stream",
          "text": [
            "1.0\n"
          ],
          "name": "stdout"
        }
      ]
    },
    {
      "cell_type": "markdown",
      "metadata": {
        "id": "-w1HnrYKgJXf",
        "colab_type": "text"
      },
      "source": [
        "**Do a real test/predict the SVM Algorithm using random sample data**"
      ]
    },
    {
      "cell_type": "code",
      "metadata": {
        "id": "itrjOhh4gXu7",
        "colab_type": "code",
        "colab": {
          "base_uri": "https://localhost:8080/",
          "height": 34
        },
        "outputId": "a1383a83-de39-4ce2-de81-a11320cb8470"
      },
      "source": [
        "#Random data of sepal_lenth and petal_length (our expected prediction is Setosa) \n",
        "#test_f1 = np.array([4.3, 4.2, 4.7])\n",
        "#test_f2 = np.array([1.0, 1.1, 1.3])\n",
        "\n",
        "#Random data of sepal_lenth and petal_length (our expected prediction is Versicolor)\n",
        "test_f1 = np.array([5.3, 5.4, 5.2])\n",
        "test_f2 = np.array([4.4, 4.7, 4.6])\n",
        "\n",
        "W1 = w1.mean();   W2 = w2.mean()    #Averaging mean prior applying on the equation.\n",
        "\n",
        "y_pred = W1 * test_f1 + W2 * test_f2\n",
        "predictions = []\n",
        "\n",
        "for val in y_pred:\n",
        "\n",
        "    if(val.mean() > 1):\n",
        "        predictions.append(1)\n",
        "    else:\n",
        "        predictions.append(-1)\n",
        "\n",
        "pred_avg_val = sum(predictions) // len(predictions)    #Compute prediction's average \n",
        "\n",
        "if pred_avg_val == 1:\n",
        "  print('Given set of flower data belongs to Versicolor')\n",
        "elif pred_avg_val == -1:\n",
        "  print('Given set of flower data belongs to Setosa')"
      ],
      "execution_count": 60,
      "outputs": [
        {
          "output_type": "stream",
          "text": [
            "Given set of flower data belongs to Versicolor\n"
          ],
          "name": "stdout"
        }
      ]
    }
  ]
}