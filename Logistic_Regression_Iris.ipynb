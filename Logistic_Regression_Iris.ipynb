{
  "nbformat": 4,
  "nbformat_minor": 0,
  "metadata": {
    "colab": {
      "name": "Logistic Regression-Iris.ipynb",
      "provenance": [],
      "collapsed_sections": []
    },
    "kernelspec": {
      "display_name": "Python 3",
      "language": "python",
      "name": "python3"
    },
    "language_info": {
      "codemirror_mode": {
        "name": "ipython",
        "version": 3
      },
      "file_extension": ".py",
      "mimetype": "text/x-python",
      "name": "python",
      "nbconvert_exporter": "python",
      "pygments_lexer": "ipython3",
      "version": "3.7.4"
    }
  },
  "cells": [
    {
      "cell_type": "markdown",
      "metadata": {
        "colab_type": "text",
        "id": "7eiDWcM_MC3H"
      },
      "source": [
        "** <font color='Orange'>Logistic Regression using NumPy</font>**"
      ]
    },
    {
      "cell_type": "markdown",
      "metadata": {
        "colab_type": "text",
        "id": "Fk5DSPCLxqT-"
      },
      "source": [
        "<font color='red'> Importing packages</font>"
      ]
    },
    {
      "cell_type": "code",
      "metadata": {
        "colab_type": "code",
        "id": "42Et8BKIxnsp",
        "colab": {}
      },
      "source": [
        "import numpy as np\n",
        "import pandas as pd\n",
        "#from sklearn.datasets import make_classification\n",
        "from sklearn.model_selection import train_test_split\n",
        "from sklearn import linear_model\n",
        "\n",
        "from tqdm import tqdm\n",
        "\n",
        "import matplotlib.pyplot as plt\n",
        "\n",
        "import warnings\n",
        "warnings.filterwarnings(\"ignore\")"
      ],
      "execution_count": null,
      "outputs": []
    },
    {
      "cell_type": "code",
      "metadata": {
        "colab_type": "code",
        "id": "BsMp0oWzx6dv",
        "colab": {
          "base_uri": "https://localhost:8080/",
          "height": 34
        },
        "outputId": "4a8053e5-328d-4d24-baa5-612b1ee4095a"
      },
      "source": [
        "#Code to run on G-colab\n",
        "\n",
        "from google.colab import drive\n",
        "drive.mount('/content/drive')"
      ],
      "execution_count": null,
      "outputs": [
        {
          "output_type": "stream",
          "text": [
            "Drive already mounted at /content/drive; to attempt to forcibly remount, call drive.mount(\"/content/drive\", force_remount=True).\n"
          ],
          "name": "stdout"
        }
      ]
    },
    {
      "cell_type": "code",
      "metadata": {
        "colab_type": "code",
        "id": "L8W2fg1cyGdX",
        "colab": {
          "base_uri": "https://localhost:8080/",
          "height": 34
        },
        "outputId": "af761ebf-f466-4644-d62a-89d08155ec9d"
      },
      "source": [
        "#code to run only on G-colab \n",
        "gcolab_project_path = '/content/drive/My Drive/AAI/Assignment/Dataset/'\n",
        "gcolab_project_path"
      ],
      "execution_count": null,
      "outputs": [
        {
          "output_type": "execute_result",
          "data": {
            "text/plain": [
              "'/content/drive/My Drive/AAI/Assignment/Dataset/'"
            ]
          },
          "metadata": {
            "tags": []
          },
          "execution_count": 42
        }
      ]
    },
    {
      "cell_type": "code",
      "metadata": {
        "id": "3Z7kUsYpVIhM",
        "colab_type": "code",
        "colab": {}
      },
      "source": [
        "#Code to run on G-colab\n",
        "df_iris = pd.read_csv(gcolab_project_path+'IRIS.csv')"
      ],
      "execution_count": null,
      "outputs": []
    },
    {
      "cell_type": "code",
      "metadata": {
        "id": "BMcKwF5MVPB0",
        "colab_type": "code",
        "colab": {
          "base_uri": "https://localhost:8080/",
          "height": 195
        },
        "outputId": "6aae0c29-5e31-4f6b-eac8-1578ae9d0094"
      },
      "source": [
        "df_iris.head()"
      ],
      "execution_count": null,
      "outputs": [
        {
          "output_type": "execute_result",
          "data": {
            "text/html": [
              "<div>\n",
              "<style scoped>\n",
              "    .dataframe tbody tr th:only-of-type {\n",
              "        vertical-align: middle;\n",
              "    }\n",
              "\n",
              "    .dataframe tbody tr th {\n",
              "        vertical-align: top;\n",
              "    }\n",
              "\n",
              "    .dataframe thead th {\n",
              "        text-align: right;\n",
              "    }\n",
              "</style>\n",
              "<table border=\"1\" class=\"dataframe\">\n",
              "  <thead>\n",
              "    <tr style=\"text-align: right;\">\n",
              "      <th></th>\n",
              "      <th>sepal_length</th>\n",
              "      <th>sepal_width</th>\n",
              "      <th>petal_length</th>\n",
              "      <th>petal_width</th>\n",
              "      <th>species</th>\n",
              "    </tr>\n",
              "  </thead>\n",
              "  <tbody>\n",
              "    <tr>\n",
              "      <th>0</th>\n",
              "      <td>5.1</td>\n",
              "      <td>3.5</td>\n",
              "      <td>1.4</td>\n",
              "      <td>0.2</td>\n",
              "      <td>Iris-setosa</td>\n",
              "    </tr>\n",
              "    <tr>\n",
              "      <th>1</th>\n",
              "      <td>4.9</td>\n",
              "      <td>3.0</td>\n",
              "      <td>1.4</td>\n",
              "      <td>0.2</td>\n",
              "      <td>Iris-setosa</td>\n",
              "    </tr>\n",
              "    <tr>\n",
              "      <th>2</th>\n",
              "      <td>4.7</td>\n",
              "      <td>3.2</td>\n",
              "      <td>1.3</td>\n",
              "      <td>0.2</td>\n",
              "      <td>Iris-setosa</td>\n",
              "    </tr>\n",
              "    <tr>\n",
              "      <th>3</th>\n",
              "      <td>4.6</td>\n",
              "      <td>3.1</td>\n",
              "      <td>1.5</td>\n",
              "      <td>0.2</td>\n",
              "      <td>Iris-setosa</td>\n",
              "    </tr>\n",
              "    <tr>\n",
              "      <th>4</th>\n",
              "      <td>5.0</td>\n",
              "      <td>3.6</td>\n",
              "      <td>1.4</td>\n",
              "      <td>0.2</td>\n",
              "      <td>Iris-setosa</td>\n",
              "    </tr>\n",
              "  </tbody>\n",
              "</table>\n",
              "</div>"
            ],
            "text/plain": [
              "   sepal_length  sepal_width  petal_length  petal_width      species\n",
              "0           5.1          3.5           1.4          0.2  Iris-setosa\n",
              "1           4.9          3.0           1.4          0.2  Iris-setosa\n",
              "2           4.7          3.2           1.3          0.2  Iris-setosa\n",
              "3           4.6          3.1           1.5          0.2  Iris-setosa\n",
              "4           5.0          3.6           1.4          0.2  Iris-setosa"
            ]
          },
          "metadata": {
            "tags": []
          },
          "execution_count": 44
        }
      ]
    },
    {
      "cell_type": "code",
      "metadata": {
        "id": "deNhMZRlm2TY",
        "colab_type": "code",
        "colab": {
          "base_uri": "https://localhost:8080/",
          "height": 195
        },
        "outputId": "1592ca15-b32b-40fc-dc9d-3a9d49778dc4"
      },
      "source": [
        "#Sort 'species' column by descending order to classify the target into \n",
        "#binary classification such as virginica and Non-virginica.\n",
        "\n",
        "df_iris.sort_values(by=['species'], ascending=False, inplace=True)\n",
        "df_iris.head()"
      ],
      "execution_count": null,
      "outputs": [
        {
          "output_type": "execute_result",
          "data": {
            "text/html": [
              "<div>\n",
              "<style scoped>\n",
              "    .dataframe tbody tr th:only-of-type {\n",
              "        vertical-align: middle;\n",
              "    }\n",
              "\n",
              "    .dataframe tbody tr th {\n",
              "        vertical-align: top;\n",
              "    }\n",
              "\n",
              "    .dataframe thead th {\n",
              "        text-align: right;\n",
              "    }\n",
              "</style>\n",
              "<table border=\"1\" class=\"dataframe\">\n",
              "  <thead>\n",
              "    <tr style=\"text-align: right;\">\n",
              "      <th></th>\n",
              "      <th>sepal_length</th>\n",
              "      <th>sepal_width</th>\n",
              "      <th>petal_length</th>\n",
              "      <th>petal_width</th>\n",
              "      <th>species</th>\n",
              "    </tr>\n",
              "  </thead>\n",
              "  <tbody>\n",
              "    <tr>\n",
              "      <th>149</th>\n",
              "      <td>5.9</td>\n",
              "      <td>3.0</td>\n",
              "      <td>5.1</td>\n",
              "      <td>1.8</td>\n",
              "      <td>Iris-virginica</td>\n",
              "    </tr>\n",
              "    <tr>\n",
              "      <th>111</th>\n",
              "      <td>6.4</td>\n",
              "      <td>2.7</td>\n",
              "      <td>5.3</td>\n",
              "      <td>1.9</td>\n",
              "      <td>Iris-virginica</td>\n",
              "    </tr>\n",
              "    <tr>\n",
              "      <th>122</th>\n",
              "      <td>7.7</td>\n",
              "      <td>2.8</td>\n",
              "      <td>6.7</td>\n",
              "      <td>2.0</td>\n",
              "      <td>Iris-virginica</td>\n",
              "    </tr>\n",
              "    <tr>\n",
              "      <th>121</th>\n",
              "      <td>5.6</td>\n",
              "      <td>2.8</td>\n",
              "      <td>4.9</td>\n",
              "      <td>2.0</td>\n",
              "      <td>Iris-virginica</td>\n",
              "    </tr>\n",
              "    <tr>\n",
              "      <th>120</th>\n",
              "      <td>6.9</td>\n",
              "      <td>3.2</td>\n",
              "      <td>5.7</td>\n",
              "      <td>2.3</td>\n",
              "      <td>Iris-virginica</td>\n",
              "    </tr>\n",
              "  </tbody>\n",
              "</table>\n",
              "</div>"
            ],
            "text/plain": [
              "     sepal_length  sepal_width  petal_length  petal_width         species\n",
              "149           5.9          3.0           5.1          1.8  Iris-virginica\n",
              "111           6.4          2.7           5.3          1.9  Iris-virginica\n",
              "122           7.7          2.8           6.7          2.0  Iris-virginica\n",
              "121           5.6          2.8           4.9          2.0  Iris-virginica\n",
              "120           6.9          3.2           5.7          2.3  Iris-virginica"
            ]
          },
          "metadata": {
            "tags": []
          },
          "execution_count": 45
        }
      ]
    },
    {
      "cell_type": "code",
      "metadata": {
        "id": "8kKiXglYpq64",
        "colab_type": "code",
        "colab": {
          "base_uri": "https://localhost:8080/",
          "height": 1000
        },
        "outputId": "c8f23999-ede9-4f65-afd8-182a1c34c629"
      },
      "source": [
        "#glimpse of presence of species column\n",
        "df_iris.species[0:49], df_iris.species[50:99], df_iris.species[100:]"
      ],
      "execution_count": null,
      "outputs": [
        {
          "output_type": "execute_result",
          "data": {
            "text/plain": [
              "(149    Iris-virginica\n",
              " 111    Iris-virginica\n",
              " 122    Iris-virginica\n",
              " 121    Iris-virginica\n",
              " 120    Iris-virginica\n",
              " 119    Iris-virginica\n",
              " 118    Iris-virginica\n",
              " 117    Iris-virginica\n",
              " 116    Iris-virginica\n",
              " 115    Iris-virginica\n",
              " 114    Iris-virginica\n",
              " 112    Iris-virginica\n",
              " 110    Iris-virginica\n",
              " 124    Iris-virginica\n",
              " 109    Iris-virginica\n",
              " 108    Iris-virginica\n",
              " 107    Iris-virginica\n",
              " 106    Iris-virginica\n",
              " 105    Iris-virginica\n",
              " 104    Iris-virginica\n",
              " 103    Iris-virginica\n",
              " 102    Iris-virginica\n",
              " 101    Iris-virginica\n",
              " 100    Iris-virginica\n",
              " 123    Iris-virginica\n",
              " 113    Iris-virginica\n",
              " 125    Iris-virginica\n",
              " 137    Iris-virginica\n",
              " 126    Iris-virginica\n",
              " 147    Iris-virginica\n",
              " 146    Iris-virginica\n",
              " 145    Iris-virginica\n",
              " 144    Iris-virginica\n",
              " 143    Iris-virginica\n",
              " 142    Iris-virginica\n",
              " 141    Iris-virginica\n",
              " 140    Iris-virginica\n",
              " 139    Iris-virginica\n",
              " 138    Iris-virginica\n",
              " 148    Iris-virginica\n",
              " 136    Iris-virginica\n",
              " 131    Iris-virginica\n",
              " 128    Iris-virginica\n",
              " 129    Iris-virginica\n",
              " 130    Iris-virginica\n",
              " 127    Iris-virginica\n",
              " 132    Iris-virginica\n",
              " 133    Iris-virginica\n",
              " 134    Iris-virginica\n",
              " Name: species, dtype: object, 88    Iris-versicolor\n",
              " 78    Iris-versicolor\n",
              " 79    Iris-versicolor\n",
              " 80    Iris-versicolor\n",
              " 81    Iris-versicolor\n",
              " 82    Iris-versicolor\n",
              " 83    Iris-versicolor\n",
              " 84    Iris-versicolor\n",
              " 85    Iris-versicolor\n",
              " 86    Iris-versicolor\n",
              " 87    Iris-versicolor\n",
              " 93    Iris-versicolor\n",
              " 89    Iris-versicolor\n",
              " 90    Iris-versicolor\n",
              " 91    Iris-versicolor\n",
              " 92    Iris-versicolor\n",
              " 76    Iris-versicolor\n",
              " 94    Iris-versicolor\n",
              " 95    Iris-versicolor\n",
              " 96    Iris-versicolor\n",
              " 97    Iris-versicolor\n",
              " 98    Iris-versicolor\n",
              " 99    Iris-versicolor\n",
              " 77    Iris-versicolor\n",
              " 75    Iris-versicolor\n",
              " 50    Iris-versicolor\n",
              " 62    Iris-versicolor\n",
              " 51    Iris-versicolor\n",
              " 52    Iris-versicolor\n",
              " 53    Iris-versicolor\n",
              " 54    Iris-versicolor\n",
              " 55    Iris-versicolor\n",
              " 56    Iris-versicolor\n",
              " 74    Iris-versicolor\n",
              " 58    Iris-versicolor\n",
              " 59    Iris-versicolor\n",
              " 60    Iris-versicolor\n",
              " 61    Iris-versicolor\n",
              " 57    Iris-versicolor\n",
              " 63    Iris-versicolor\n",
              " 65    Iris-versicolor\n",
              " 66    Iris-versicolor\n",
              " 67    Iris-versicolor\n",
              " 68    Iris-versicolor\n",
              " 69    Iris-versicolor\n",
              " 70    Iris-versicolor\n",
              " 71    Iris-versicolor\n",
              " 72    Iris-versicolor\n",
              " 73    Iris-versicolor\n",
              " Name: species, dtype: object, 18    Iris-setosa\n",
              " 14    Iris-setosa\n",
              " 15    Iris-setosa\n",
              " 16    Iris-setosa\n",
              " 17    Iris-setosa\n",
              " 23    Iris-setosa\n",
              " 19    Iris-setosa\n",
              " 20    Iris-setosa\n",
              " 21    Iris-setosa\n",
              " 22    Iris-setosa\n",
              " 13    Iris-setosa\n",
              " 1     Iris-setosa\n",
              " 12    Iris-setosa\n",
              " 11    Iris-setosa\n",
              " 10    Iris-setosa\n",
              " 9     Iris-setosa\n",
              " 8     Iris-setosa\n",
              " 7     Iris-setosa\n",
              " 6     Iris-setosa\n",
              " 5     Iris-setosa\n",
              " 4     Iris-setosa\n",
              " 3     Iris-setosa\n",
              " 2     Iris-setosa\n",
              " 25    Iris-setosa\n",
              " 24    Iris-setosa\n",
              " 38    Iris-setosa\n",
              " 26    Iris-setosa\n",
              " 27    Iris-setosa\n",
              " 49    Iris-setosa\n",
              " 48    Iris-setosa\n",
              " 47    Iris-setosa\n",
              " 46    Iris-setosa\n",
              " 45    Iris-setosa\n",
              " 44    Iris-setosa\n",
              " 43    Iris-setosa\n",
              " 42    Iris-setosa\n",
              " 41    Iris-setosa\n",
              " 40    Iris-setosa\n",
              " 39    Iris-setosa\n",
              " 37    Iris-setosa\n",
              " 36    Iris-setosa\n",
              " 35    Iris-setosa\n",
              " 34    Iris-setosa\n",
              " 33    Iris-setosa\n",
              " 32    Iris-setosa\n",
              " 31    Iris-setosa\n",
              " 30    Iris-setosa\n",
              " 29    Iris-setosa\n",
              " 28    Iris-setosa\n",
              " 0     Iris-setosa\n",
              " Name: species, dtype: object)"
            ]
          },
          "metadata": {
            "tags": []
          },
          "execution_count": 46
        }
      ]
    },
    {
      "cell_type": "code",
      "metadata": {
        "id": "-ICQ467qqtqz",
        "colab_type": "code",
        "colab": {}
      },
      "source": [
        "#Encoding Virginica to 1 and rest of species as Non-virginica to 0\n",
        "\n",
        "virginica = [1 for i in range(50)]  #1st 50 dataset is virginica\n",
        "non_virginica = [0 for i in range(100)] #final 100 dataset is non-virginica"
      ],
      "execution_count": null,
      "outputs": []
    },
    {
      "cell_type": "code",
      "metadata": {
        "id": "qVG_15dfrTyZ",
        "colab_type": "code",
        "colab": {}
      },
      "source": [
        "#concatenate the newly encoded values \n",
        "y = np.concatenate([virginica,non_virginica ])"
      ],
      "execution_count": null,
      "outputs": []
    },
    {
      "cell_type": "code",
      "metadata": {
        "id": "Tx3hAo1ire7A",
        "colab_type": "code",
        "colab": {
          "base_uri": "https://localhost:8080/",
          "height": 195
        },
        "outputId": "ab6d94e1-faa8-4d88-8071-73b99e51b1f6"
      },
      "source": [
        "#Replaces existing species column with the newly encoded y values\n",
        "df_iris['species'] = y\n",
        "df_iris.head()"
      ],
      "execution_count": null,
      "outputs": [
        {
          "output_type": "execute_result",
          "data": {
            "text/html": [
              "<div>\n",
              "<style scoped>\n",
              "    .dataframe tbody tr th:only-of-type {\n",
              "        vertical-align: middle;\n",
              "    }\n",
              "\n",
              "    .dataframe tbody tr th {\n",
              "        vertical-align: top;\n",
              "    }\n",
              "\n",
              "    .dataframe thead th {\n",
              "        text-align: right;\n",
              "    }\n",
              "</style>\n",
              "<table border=\"1\" class=\"dataframe\">\n",
              "  <thead>\n",
              "    <tr style=\"text-align: right;\">\n",
              "      <th></th>\n",
              "      <th>sepal_length</th>\n",
              "      <th>sepal_width</th>\n",
              "      <th>petal_length</th>\n",
              "      <th>petal_width</th>\n",
              "      <th>species</th>\n",
              "    </tr>\n",
              "  </thead>\n",
              "  <tbody>\n",
              "    <tr>\n",
              "      <th>149</th>\n",
              "      <td>5.9</td>\n",
              "      <td>3.0</td>\n",
              "      <td>5.1</td>\n",
              "      <td>1.8</td>\n",
              "      <td>1</td>\n",
              "    </tr>\n",
              "    <tr>\n",
              "      <th>111</th>\n",
              "      <td>6.4</td>\n",
              "      <td>2.7</td>\n",
              "      <td>5.3</td>\n",
              "      <td>1.9</td>\n",
              "      <td>1</td>\n",
              "    </tr>\n",
              "    <tr>\n",
              "      <th>122</th>\n",
              "      <td>7.7</td>\n",
              "      <td>2.8</td>\n",
              "      <td>6.7</td>\n",
              "      <td>2.0</td>\n",
              "      <td>1</td>\n",
              "    </tr>\n",
              "    <tr>\n",
              "      <th>121</th>\n",
              "      <td>5.6</td>\n",
              "      <td>2.8</td>\n",
              "      <td>4.9</td>\n",
              "      <td>2.0</td>\n",
              "      <td>1</td>\n",
              "    </tr>\n",
              "    <tr>\n",
              "      <th>120</th>\n",
              "      <td>6.9</td>\n",
              "      <td>3.2</td>\n",
              "      <td>5.7</td>\n",
              "      <td>2.3</td>\n",
              "      <td>1</td>\n",
              "    </tr>\n",
              "  </tbody>\n",
              "</table>\n",
              "</div>"
            ],
            "text/plain": [
              "     sepal_length  sepal_width  petal_length  petal_width  species\n",
              "149           5.9          3.0           5.1          1.8        1\n",
              "111           6.4          2.7           5.3          1.9        1\n",
              "122           7.7          2.8           6.7          2.0        1\n",
              "121           5.6          2.8           4.9          2.0        1\n",
              "120           6.9          3.2           5.7          2.3        1"
            ]
          },
          "metadata": {
            "tags": []
          },
          "execution_count": 49
        }
      ]
    },
    {
      "cell_type": "code",
      "metadata": {
        "id": "LJmdEHJXtkYw",
        "colab_type": "code",
        "colab": {
          "base_uri": "https://localhost:8080/",
          "height": 302
        },
        "outputId": "6809a693-a576-471f-c7e4-d055b79d821e"
      },
      "source": [
        "#Just for an affirmation that the non-virginica is coded to 0\n",
        "df_iris.species[50:60], df_iris.species[144:150]"
      ],
      "execution_count": null,
      "outputs": [
        {
          "output_type": "execute_result",
          "data": {
            "text/plain": [
              "(88    0\n",
              " 78    0\n",
              " 79    0\n",
              " 80    0\n",
              " 81    0\n",
              " 82    0\n",
              " 83    0\n",
              " 84    0\n",
              " 85    0\n",
              " 86    0\n",
              " Name: species, dtype: int64, 32    0\n",
              " 31    0\n",
              " 30    0\n",
              " 29    0\n",
              " 28    0\n",
              " 0     0\n",
              " Name: species, dtype: int64)"
            ]
          },
          "metadata": {
            "tags": []
          },
          "execution_count": 50
        }
      ]
    },
    {
      "cell_type": "code",
      "metadata": {
        "id": "AKAwXjJrVdBi",
        "colab_type": "code",
        "colab": {
          "base_uri": "https://localhost:8080/",
          "height": 34
        },
        "outputId": "62b4aeb7-39dc-4140-d9f3-5c890a8e2285"
      },
      "source": [
        "#Split X and y (features and target) after encoding of species column\n",
        "X = df_iris.iloc[:,[0,1,2,3]]\n",
        "y = df_iris.iloc[:,4]\n",
        "type(X), type(y)"
      ],
      "execution_count": null,
      "outputs": [
        {
          "output_type": "execute_result",
          "data": {
            "text/plain": [
              "(pandas.core.frame.DataFrame, pandas.core.series.Series)"
            ]
          },
          "metadata": {
            "tags": []
          },
          "execution_count": 51
        }
      ]
    },
    {
      "cell_type": "code",
      "metadata": {
        "id": "msFPaGjjbfMm",
        "colab_type": "code",
        "colab": {
          "base_uri": "https://localhost:8080/",
          "height": 195
        },
        "outputId": "bb0f5d5f-f144-40f3-c3e7-aa0eec661da5"
      },
      "source": [
        "X.head()"
      ],
      "execution_count": null,
      "outputs": [
        {
          "output_type": "execute_result",
          "data": {
            "text/html": [
              "<div>\n",
              "<style scoped>\n",
              "    .dataframe tbody tr th:only-of-type {\n",
              "        vertical-align: middle;\n",
              "    }\n",
              "\n",
              "    .dataframe tbody tr th {\n",
              "        vertical-align: top;\n",
              "    }\n",
              "\n",
              "    .dataframe thead th {\n",
              "        text-align: right;\n",
              "    }\n",
              "</style>\n",
              "<table border=\"1\" class=\"dataframe\">\n",
              "  <thead>\n",
              "    <tr style=\"text-align: right;\">\n",
              "      <th></th>\n",
              "      <th>sepal_length</th>\n",
              "      <th>sepal_width</th>\n",
              "      <th>petal_length</th>\n",
              "      <th>petal_width</th>\n",
              "    </tr>\n",
              "  </thead>\n",
              "  <tbody>\n",
              "    <tr>\n",
              "      <th>149</th>\n",
              "      <td>5.9</td>\n",
              "      <td>3.0</td>\n",
              "      <td>5.1</td>\n",
              "      <td>1.8</td>\n",
              "    </tr>\n",
              "    <tr>\n",
              "      <th>111</th>\n",
              "      <td>6.4</td>\n",
              "      <td>2.7</td>\n",
              "      <td>5.3</td>\n",
              "      <td>1.9</td>\n",
              "    </tr>\n",
              "    <tr>\n",
              "      <th>122</th>\n",
              "      <td>7.7</td>\n",
              "      <td>2.8</td>\n",
              "      <td>6.7</td>\n",
              "      <td>2.0</td>\n",
              "    </tr>\n",
              "    <tr>\n",
              "      <th>121</th>\n",
              "      <td>5.6</td>\n",
              "      <td>2.8</td>\n",
              "      <td>4.9</td>\n",
              "      <td>2.0</td>\n",
              "    </tr>\n",
              "    <tr>\n",
              "      <th>120</th>\n",
              "      <td>6.9</td>\n",
              "      <td>3.2</td>\n",
              "      <td>5.7</td>\n",
              "      <td>2.3</td>\n",
              "    </tr>\n",
              "  </tbody>\n",
              "</table>\n",
              "</div>"
            ],
            "text/plain": [
              "     sepal_length  sepal_width  petal_length  petal_width\n",
              "149           5.9          3.0           5.1          1.8\n",
              "111           6.4          2.7           5.3          1.9\n",
              "122           7.7          2.8           6.7          2.0\n",
              "121           5.6          2.8           4.9          2.0\n",
              "120           6.9          3.2           5.7          2.3"
            ]
          },
          "metadata": {
            "tags": []
          },
          "execution_count": 52
        }
      ]
    },
    {
      "cell_type": "code",
      "metadata": {
        "id": "PkmUpubCbisq",
        "colab_type": "code",
        "colab": {
          "base_uri": "https://localhost:8080/",
          "height": 202
        },
        "outputId": "8ec8f905-1aae-4750-f69b-a88826af35e8"
      },
      "source": [
        "y.head(), y.tail()"
      ],
      "execution_count": null,
      "outputs": [
        {
          "output_type": "execute_result",
          "data": {
            "text/plain": [
              "(149    1\n",
              " 111    1\n",
              " 122    1\n",
              " 121    1\n",
              " 120    1\n",
              " Name: species, dtype: int64, 31    0\n",
              " 30    0\n",
              " 29    0\n",
              " 28    0\n",
              " 0     0\n",
              " Name: species, dtype: int64)"
            ]
          },
          "metadata": {
            "tags": []
          },
          "execution_count": 53
        }
      ]
    },
    {
      "cell_type": "code",
      "metadata": {
        "id": "2i_LNDY5lj0y",
        "colab_type": "code",
        "colab": {
          "base_uri": "https://localhost:8080/",
          "height": 235
        },
        "outputId": "779419b3-dea5-40bb-954d-ce9ece1d0192"
      },
      "source": [
        "#Random permutation for shuffling the dataset\n",
        "perm = np.random.permutation(150)\n",
        "type(perm), perm"
      ],
      "execution_count": null,
      "outputs": [
        {
          "output_type": "execute_result",
          "data": {
            "text/plain": [
              "(numpy.ndarray,\n",
              " array([138,  48, 127,  44,  52, 131,  66,  23,  18,   0,  39, 147,  82,\n",
              "          2,  72, 130,  84,  38,  14,  85, 123,  92, 108, 133,  81,  17,\n",
              "         55,  70,  11,  94,  26,  69,  93, 149, 137, 106,  50, 128,  28,\n",
              "         35, 132, 102, 129, 110,  77, 136,  65,  74,  53, 121,  78,  22,\n",
              "         96,  40,  33, 101, 122,  59,  45,   3,  31,  41,  34,  88,   6,\n",
              "          8,  71,  73, 148,  95, 114, 117,  89,  10,  37, 119,  79, 142,\n",
              "        112,  25,   4,  91, 107, 104,  54, 118,  61,  13,  46,  43, 105,\n",
              "          9, 134, 115,  75,  80, 144,  57, 135,  21, 126,  68,  36, 103,\n",
              "         19,  30,  98,  97, 100,  67,  56,  20, 120,   1,  47,  90, 145,\n",
              "         62, 124,  83, 146,  64,   5, 139,  42,  86,  24,  15,  27, 113,\n",
              "        141,  76,  29, 109,  63,   7,  16, 111,  87,  60, 116,  51,  58,\n",
              "        140, 125,  12,  49, 143,  99,  32]))"
            ]
          },
          "metadata": {
            "tags": []
          },
          "execution_count": 54
        }
      ]
    },
    {
      "cell_type": "code",
      "metadata": {
        "id": "Tz5fHDo3lsux",
        "colab_type": "code",
        "colab": {}
      },
      "source": [
        "#Shuffle the datset by the generated Permutation number indices\n",
        "X_train, X_test =  X.iloc[perm][20:], X.iloc[perm][:20]\n",
        "y_train, y_test =  y.iloc[perm][20:], y.iloc[perm][:20]"
      ],
      "execution_count": null,
      "outputs": []
    },
    {
      "cell_type": "code",
      "metadata": {
        "id": "DHiVxTximmDH",
        "colab_type": "code",
        "colab": {
          "base_uri": "https://localhost:8080/",
          "height": 84
        },
        "outputId": "2764448e-f9f7-4b0a-9af4-e99fc605424b"
      },
      "source": [
        "print(\"Dataset Shape:\")\n",
        "print(\"==============\")\n",
        "print(f\"X_train: {X_train.shape} y_train: {y_train.shape}\")\n",
        "print(f\"X_test: {X_test.shape}\\t y_test: {y_test.shape}\")"
      ],
      "execution_count": null,
      "outputs": [
        {
          "output_type": "stream",
          "text": [
            "Dataset Shape:\n",
            "==============\n",
            "X_train: (130, 4) y_train: (130,)\n",
            "X_test: (20, 4)\t y_test: (20,)\n"
          ],
          "name": "stdout"
        }
      ]
    },
    {
      "cell_type": "code",
      "metadata": {
        "colab_type": "code",
        "id": "0Kh4dBfVyJMP",
        "colab": {}
      },
      "source": [
        "#Reshape label /target column to attain a 2D array \n",
        "#Helps python broadcasting to compute the correct values once we apply our linear algebra\n",
        "y_train = y_train.values.reshape(-1, 1)\n",
        "y_test = y_test.values.reshape(-1, 1)"
      ],
      "execution_count": null,
      "outputs": []
    },
    {
      "cell_type": "code",
      "metadata": {
        "colab_type": "code",
        "id": "0DR_YMBsyOci",
        "colab": {
          "base_uri": "https://localhost:8080/",
          "height": 84
        },
        "outputId": "11a4efe0-54a7-46b4-b99c-03af3dbb490d"
      },
      "source": [
        "print(\"Dataset Shape - Post reshaping the Label/Target column:\")\n",
        "print(\"======================================================\")\n",
        "print(f\"X_train: {X_train.shape} y_train: {y_train.shape}\")\n",
        "print(f\"X_test: {X_test.shape}\\t y_test: {y_test.shape}\")"
      ],
      "execution_count": null,
      "outputs": [
        {
          "output_type": "stream",
          "text": [
            "Dataset Shape - Post reshaping the Label/Target column:\n",
            "======================================================\n",
            "X_train: (130, 4) y_train: (130, 1)\n",
            "X_test: (20, 4)\t y_test: (20, 1)\n"
          ],
          "name": "stdout"
        }
      ]
    },
    {
      "cell_type": "code",
      "metadata": {
        "id": "xXdbxPa6EDI3",
        "colab_type": "code",
        "colab": {}
      },
      "source": [
        "#Pick two important features alone for classification\n",
        "X_train = X_train.iloc[:, 2:]\n",
        "X_test = X_test.iloc[:, 2:]"
      ],
      "execution_count": null,
      "outputs": []
    },
    {
      "cell_type": "code",
      "metadata": {
        "id": "LeGQZVFkEfcw",
        "colab_type": "code",
        "colab": {
          "base_uri": "https://localhost:8080/",
          "height": 195
        },
        "outputId": "97df71ce-48e9-4b56-fb34-6e0b1403b667"
      },
      "source": [
        "#Picks only Petal Length and Petal Width - important features \n",
        "X_train.head()"
      ],
      "execution_count": null,
      "outputs": [
        {
          "output_type": "execute_result",
          "data": {
            "text/html": [
              "<div>\n",
              "<style scoped>\n",
              "    .dataframe tbody tr th:only-of-type {\n",
              "        vertical-align: middle;\n",
              "    }\n",
              "\n",
              "    .dataframe tbody tr th {\n",
              "        vertical-align: top;\n",
              "    }\n",
              "\n",
              "    .dataframe thead th {\n",
              "        text-align: right;\n",
              "    }\n",
              "</style>\n",
              "<table border=\"1\" class=\"dataframe\">\n",
              "  <thead>\n",
              "    <tr style=\"text-align: right;\">\n",
              "      <th></th>\n",
              "      <th>petal_length</th>\n",
              "      <th>petal_width</th>\n",
              "    </tr>\n",
              "  </thead>\n",
              "  <tbody>\n",
              "    <tr>\n",
              "      <th>25</th>\n",
              "      <td>1.6</td>\n",
              "      <td>0.2</td>\n",
              "    </tr>\n",
              "    <tr>\n",
              "      <th>67</th>\n",
              "      <td>4.1</td>\n",
              "      <td>1.0</td>\n",
              "    </tr>\n",
              "    <tr>\n",
              "      <th>21</th>\n",
              "      <td>1.5</td>\n",
              "      <td>0.4</td>\n",
              "    </tr>\n",
              "    <tr>\n",
              "      <th>44</th>\n",
              "      <td>1.9</td>\n",
              "      <td>0.4</td>\n",
              "    </tr>\n",
              "    <tr>\n",
              "      <th>55</th>\n",
              "      <td>4.5</td>\n",
              "      <td>1.3</td>\n",
              "    </tr>\n",
              "  </tbody>\n",
              "</table>\n",
              "</div>"
            ],
            "text/plain": [
              "    petal_length  petal_width\n",
              "25           1.6          0.2\n",
              "67           4.1          1.0\n",
              "21           1.5          0.4\n",
              "44           1.9          0.4\n",
              "55           4.5          1.3"
            ]
          },
          "metadata": {
            "tags": []
          },
          "execution_count": 60
        }
      ]
    },
    {
      "cell_type": "code",
      "metadata": {
        "id": "1g-WmJT0Uhcx",
        "colab_type": "code",
        "colab": {
          "base_uri": "https://localhost:8080/",
          "height": 84
        },
        "outputId": "fb576d63-77f5-44b5-e084-a9fce02a6b63"
      },
      "source": [
        "print(\"Dataset Shape - Post restricting to two features:\")\n",
        "print(\"======================================================\")\n",
        "print(f\"X_train: {X_train.shape} y_train: {y_train.shape}\")\n",
        "print(f\"X_test: {X_test.shape}\\t y_test: {y_test.shape}\")"
      ],
      "execution_count": null,
      "outputs": [
        {
          "output_type": "stream",
          "text": [
            "Dataset Shape - Post restricting to two features:\n",
            "======================================================\n",
            "X_train: (130, 2) y_train: (130, 1)\n",
            "X_test: (20, 2)\t y_test: (20, 1)\n"
          ],
          "name": "stdout"
        }
      ]
    },
    {
      "cell_type": "markdown",
      "metadata": {
        "colab_type": "text",
        "id": "BW4OHswfqjHR"
      },
      "source": [
        "# <font color='blue' size=5>Visuzaliation Function for Plotting</font>"
      ]
    },
    {
      "cell_type": "code",
      "metadata": {
        "colab_type": "code",
        "id": "3HpvTwDHyQQy",
        "colab": {
          "base_uri": "https://localhost:8080/",
          "height": 312
        },
        "outputId": "7cf5119e-c8ce-4c82-e388-e65ed295ba79"
      },
      "source": [
        "plt.scatter(X_train.iloc[0:49, 0], X_train.iloc[0:49, 1], c=y_train[0:49])\n",
        "plt.scatter(X_train.iloc[50:149, 0], X_train.iloc[50:149, 1], c=y_train[50:149])\n",
        "\n",
        "plt.xlabel('Petal Length (cm)')\n",
        "plt.ylabel('Petal Width (cm)')\n",
        "\n",
        "plt.title('Classification of Virginica vs Non-virginica')\n",
        "plt.legend(['Virginica', 'Non-Virginica'], loc='upper left')\n",
        "\n",
        "plt.figure(figsize =(50, 50)) \n",
        "\n",
        "plt.show()"
      ],
      "execution_count": null,
      "outputs": [
        {
          "output_type": "display_data",
          "data": {
            "image/png": "[encoded data removed]",
            "text/plain": [
              "<Figure size 432x288 with 1 Axes>"
            ]
          },
          "metadata": {
            "tags": [],
            "needs_background": "light"
          }
        },
        {
          "output_type": "display_data",
          "data": {
            "text/plain": [
              "<Figure size 3600x3600 with 0 Axes>"
            ]
          },
          "metadata": {
            "tags": []
          }
        }
      ]
    },
    {
      "cell_type": "markdown",
      "metadata": {
        "id": "0t7JN1kHO2Ri",
        "colab_type": "text"
      },
      "source": [
        "**Inference: On Scatter Plot. ome overlapping data points but these features do a reasonable job in separating our classes**"
      ]
    },
    {
      "cell_type": "markdown",
      "metadata": {
        "id": "knO88LoJPGqu",
        "colab_type": "text"
      },
      "source": [
        "**Sigmoid Function**"
      ]
    },
    {
      "cell_type": "code",
      "metadata": {
        "id": "zmDKrg_bO1vL",
        "colab_type": "code",
        "colab": {}
      },
      "source": [
        "def Sigmoid(z):\n",
        "  \n",
        "  return 1.0 / (1.0 + np.exp(-z))"
      ],
      "execution_count": null,
      "outputs": []
    },
    {
      "cell_type": "markdown",
      "metadata": {
        "id": "wts0lcIfQ8Xz",
        "colab_type": "text"
      },
      "source": [
        "**Sigmoid -Visualization Plotting**"
      ]
    },
    {
      "cell_type": "code",
      "metadata": {
        "colab_type": "code",
        "id": "YYaVyQ2lyXcr",
        "colab": {
          "base_uri": "https://localhost:8080/",
          "height": 282
        },
        "outputId": "1e2e6157-006d-4eb3-d16d-79cf354bb5e9"
      },
      "source": [
        "f, axes = plt.subplots(1,1)\n",
        "\n",
        "plt.plot(Sigmoid(np.linspace(-4,4)), Sigmoid(np.linspace(-10,10)))\n",
        "plt.xlim(0,1)\n",
        "\n",
        "axes.plot(0.01, Sigmoid(-500), 'r')\n",
        "axes.plot(0.50, Sigmoid(0), 'g')\n",
        "axes.plot(0.99, Sigmoid(500), 'b')\n",
        "\n",
        "plt.xticks([0,0.25,0.50,0.75,1])\n",
        "plt.yticks([0,0.25,0.50,0.75,1])\n",
        "\n",
        "axes.legend(['sigmoid curve', '-500', 'Zero', '+500'])\n",
        "plt.figure(figsize =(50, 50)) \n",
        "plt.show()"
      ],
      "execution_count": null,
      "outputs": [
        {
          "output_type": "display_data",
          "data": {
            "image/png": "[encoded data removed]",
            "text/plain": [
              "<Figure size 432x288 with 1 Axes>"
            ]
          },
          "metadata": {
            "tags": [],
            "needs_background": "light"
          }
        },
        {
          "output_type": "display_data",
          "data": {
            "text/plain": [
              "<Figure size 3600x3600 with 0 Axes>"
            ]
          },
          "metadata": {
            "tags": []
          }
        }
      ]
    },
    {
      "cell_type": "markdown",
      "metadata": {
        "id": "hB4izpr9TB0R",
        "colab_type": "text"
      },
      "source": [
        "**Logistic-Loss or Cross-Entropy Function**"
      ]
    },
    {
      "cell_type": "code",
      "metadata": {
        "colab_type": "code",
        "id": "EAfkVI6GyaRO",
        "colab": {}
      },
      "source": [
        "def logistic_loss(y, y_hat):\n",
        "  # y -> actual given true value\n",
        "  # y_hat -> our model prediction\n",
        "\n",
        "  return -np.mean(y * np.log(y_hat)) + (1-y) * np.log(1 - y_hat)"
      ],
      "execution_count": null,
      "outputs": []
    },
    {
      "cell_type": "markdown",
      "metadata": {
        "id": "JA4bACY8UAhq",
        "colab_type": "text"
      },
      "source": [
        "Step: 1\n",
        "Initialize Weights and Bias "
      ]
    },
    {
      "cell_type": "code",
      "metadata": {
        "colab_type": "code",
        "id": "GecwYV9fsKZ9",
        "colab": {}
      },
      "source": [
        "def initialize_weights(dim):\n",
        "\n",
        "    print('Dim: ', dim)\n",
        "    w = np.zeros(dim)\n",
        "    b = 0\n",
        "    return w,b"
      ],
      "execution_count": null,
      "outputs": []
    },
    {
      "cell_type": "markdown",
      "metadata": {
        "id": "yn9wd3icnhUS",
        "colab_type": "text"
      },
      "source": [
        "**Parameters Initialization**"
      ]
    },
    {
      "cell_type": "code",
      "metadata": {
        "colab_type": "code",
        "id": "Pv1llH429wG5",
        "colab": {
          "base_uri": "https://localhost:8080/",
          "height": 151
        },
        "outputId": "2b3c46a6-1c5a-4b79-8d28-a7a7604a724f"
      },
      "source": [
        "x_dim = (X_train.shape[1],1)\n",
        "learning_rate = 0.01\n",
        "epochs = 1000\n",
        "\n",
        "weight,bias = initialize_weights(x_dim)\n",
        "\n",
        "print(f\"Initial Weights: \\n{weight}\\nInitial Bias:\\t{bias}\\n\")\n",
        "print(f\"Learning Rate:\\t{learning_rate}\\nEpochs:{epochs}\")"
      ],
      "execution_count": null,
      "outputs": [
        {
          "output_type": "stream",
          "text": [
            "Dim:  (2, 1)\n",
            "Initial Weights: \n",
            "[[0.]\n",
            " [0.]]\n",
            "Initial Bias:\t0\n",
            "\n",
            "Learning Rate:\t0.01\n",
            "Epochs:1000\n"
          ],
          "name": "stdout"
        }
      ]
    },
    {
      "cell_type": "markdown",
      "metadata": {
        "colab_type": "text",
        "id": "qPv4NJuxABgs"
      },
      "source": [
        "**Train the Model**"
      ]
    },
    {
      "cell_type": "code",
      "metadata": {
        "colab_type": "code",
        "id": "nAfmQF47_Sd6",
        "colab": {}
      },
      "source": [
        "def train_model(X_train, y_train, weight, bias, epochs):\n",
        "\n",
        "  train_loss = []\n",
        "  print('epochs ', epochs)\n",
        "  m = len(y_train)\n",
        "\n",
        "  X_train = np.array(X_train)\n",
        "\n",
        "  for iteration in tqdm(range(epochs)):\n",
        "    \n",
        "      Z = np.matmul(X_train, weight) + bias\n",
        "      y_hat = Sigmoid(Z)\n",
        "\n",
        "      loss = logistic_loss(y_train, y_hat)\n",
        "      diff_in_predcn = y_hat - y_train\n",
        "\n",
        "      dw = 1/m * np.matmul(X_train.T, diff_in_predcn)\n",
        "      db = np.sum(diff_in_predcn)\n",
        "\n",
        "      weight = weight - learning_rate * dw\n",
        "      bias = bias - learning_rate * db\n",
        "\n",
        "      train_loss.append(loss)\n",
        "\n",
        "  return weight, bias, train_loss, y_hat"
      ],
      "execution_count": null,
      "outputs": []
    },
    {
      "cell_type": "code",
      "metadata": {
        "colab_type": "code",
        "id": "P_JASp_NAfK_",
        "colab": {}
      },
      "source": [
        "Weight, Bias, train_loss, y_hat = train_model(X_train, y_train, weight, bias, epochs)\n",
        "\n",
        "\n",
        "print(\"\\nTraining Loss:\")\n",
        "print(\"================\")\n",
        "for iteration in range(len(train_loss)):\n",
        "    if iteration%100 == 0:     \n",
        "        print(f\" {iteration}/{epochs} | Loss: {train_loss[iteration]}\")"
      ],
      "execution_count": null,
      "outputs": []
    },
    {
      "cell_type": "code",
      "metadata": {
        "id": "EW9MosfCiVFT",
        "colab_type": "code",
        "colab": {
          "base_uri": "https://localhost:8080/",
          "height": 67
        },
        "outputId": "dc90dfdc-e123-413a-c509-b68d023ca2b5"
      },
      "source": [
        "print(f\"Weight: {Weight}\\nBias: {Bias}\")"
      ],
      "execution_count": null,
      "outputs": [
        {
          "output_type": "stream",
          "text": [
            "Weight: [[1.33430738]\n",
            " [0.80817597]]\n",
            "Bias: -7.89597935324034\n"
          ],
          "name": "stdout"
        }
      ]
    },
    {
      "cell_type": "markdown",
      "metadata": {
        "id": "EUqzLXxisiDx",
        "colab_type": "text"
      },
      "source": [
        "***Analyze the predictions made by the model during training ***"
      ]
    },
    {
      "cell_type": "code",
      "metadata": {
        "colab_type": "code",
        "id": "nx8Rs9rfEZ1R",
        "colab": {}
      },
      "source": [
        "def predict_train(y_pred):\n",
        "\n",
        "  preds = []\n",
        "\n",
        "  for each_pred in y_pred:\n",
        "    if each_pred > 0.5:\n",
        "      preds.append(1)\n",
        "    else:\n",
        "      preds.append(0)\n",
        "\n",
        "  return preds"
      ],
      "execution_count": null,
      "outputs": []
    },
    {
      "cell_type": "markdown",
      "metadata": {
        "id": "2OyVnDkMsxyR",
        "colab_type": "text"
      },
      "source": [
        "**Compute F! Score using SK Learn**"
      ]
    },
    {
      "cell_type": "code",
      "metadata": {
        "id": "Ow1_G6lNDPhw",
        "colab_type": "code",
        "colab": {
          "base_uri": "https://localhost:8080/",
          "height": 34
        },
        "outputId": "b667dff1-8ba3-4e1f-b277-68accb161313"
      },
      "source": [
        "train_pred = predict_train(y_hat)\n",
        "\n",
        "from sklearn.metrics import f1_score\n",
        "f1_score(train_pred, y_train)"
      ],
      "execution_count": null,
      "outputs": [
        {
          "output_type": "execute_result",
          "data": {
            "text/plain": [
              "0.9382716049382716"
            ]
          },
          "metadata": {
            "tags": []
          },
          "execution_count": 74
        }
      ]
    },
    {
      "cell_type": "markdown",
      "metadata": {
        "id": "JimeDm8Ls2VU",
        "colab_type": "text"
      },
      "source": [
        "**Inference on F1-Score: 0.95**"
      ]
    },
    {
      "cell_type": "code",
      "metadata": {
        "id": "NetMHGM5DPin",
        "colab_type": "code",
        "colab": {
          "base_uri": "https://localhost:8080/",
          "height": 269
        },
        "outputId": "c4abc5c2-7e52-4c68-be45-67e4dfabbb0b"
      },
      "source": [
        "plt.scatter(X_train.iloc[:, 0], X_train.iloc[:, 1], c=y_train.ravel())\n",
        "\n",
        "ax = plt.gca()\n",
        "\n",
        "xvals = np.array(ax.get_xlim()).reshape(-1, 1)\n",
        "yvals = -(xvals * Weight[0][0] + Bias) / Weight[1][0]\n",
        "\n",
        "plt.plot(xvals, yvals)\n",
        "plt.ylim(-1, 3)\n",
        "\n",
        "plt.show()"
      ],
      "execution_count": null,
      "outputs": [
        {
          "output_type": "display_data",
          "data": {
            "image/png": "[encoded data removed]",
            "text/plain": [
              "<Figure size 432x288 with 1 Axes>"
            ]
          },
          "metadata": {
            "tags": [],
            "needs_background": "light"
          }
        }
      ]
    },
    {
      "cell_type": "markdown",
      "metadata": {
        "id": "FBX0qHlBAGLs",
        "colab_type": "text"
      },
      "source": [
        "**Test the Model**"
      ]
    },
    {
      "cell_type": "code",
      "metadata": {
        "id": "2QskVhYbAIXI",
        "colab_type": "code",
        "colab": {}
      },
      "source": [
        "def predict_test(weight, bias):\n",
        "\n",
        "    \n",
        "    test_predict = []\n",
        "    x_test = np.array(X_test)\n",
        "    N = len(x_test)\n",
        "\n",
        "    for idx in range(N):\n",
        "        z=np.matmul(weight.T,x_test[idx].reshape(-1,1) )+bias\n",
        "        \n",
        "        if Sigmoid(z) >= 0.5: # sigmoid(w,x,b) returns 1/(1+exp(-(dot(x,w)+b)))\n",
        "            test_predict.append(1)\n",
        "        else:\n",
        "            test_predict.append(0)\n",
        "    return test_predict"
      ],
      "execution_count": null,
      "outputs": []
    },
    {
      "cell_type": "code",
      "metadata": {
        "id": "xrirw2PtD8yd",
        "colab_type": "code",
        "colab": {
          "base_uri": "https://localhost:8080/",
          "height": 34
        },
        "outputId": "b5ce1135-eba3-4c26-85f6-e8a9502ebe5c"
      },
      "source": [
        "test_predict = predict_test(Weight, Bias)\n",
        "print(test_predict)"
      ],
      "execution_count": null,
      "outputs": [
        {
          "output_type": "stream",
          "text": [
            "[0, 1, 0, 1, 0, 0, 0, 1, 1, 1, 1, 0, 0, 1, 0, 0, 0, 0, 1, 0]\n"
          ],
          "name": "stdout"
        }
      ]
    },
    {
      "cell_type": "code",
      "metadata": {
        "id": "KgPB-MUeHXsi",
        "colab_type": "code",
        "colab": {
          "base_uri": "https://localhost:8080/",
          "height": 353
        },
        "outputId": "31f8940a-c668-4656-ed50-6214ac882a49"
      },
      "source": [
        "print(y_test); "
      ],
      "execution_count": null,
      "outputs": [
        {
          "output_type": "stream",
          "text": [
            "[[0]\n",
            " [1]\n",
            " [0]\n",
            " [1]\n",
            " [0]\n",
            " [0]\n",
            " [0]\n",
            " [1]\n",
            " [1]\n",
            " [1]\n",
            " [1]\n",
            " [0]\n",
            " [0]\n",
            " [1]\n",
            " [0]\n",
            " [0]\n",
            " [0]\n",
            " [1]\n",
            " [1]\n",
            " [0]]\n"
          ],
          "name": "stdout"
        }
      ]
    },
    {
      "cell_type": "code",
      "metadata": {
        "id": "QvPQFGXUHQaY",
        "colab_type": "code",
        "colab": {
          "base_uri": "https://localhost:8080/",
          "height": 34
        },
        "outputId": "c922c545-5921-4a29-fc53-d9e38b8b5de9"
      },
      "source": [
        "print( (1-np.sum(y_test  - test_predict)) /len(X_test))"
      ],
      "execution_count": null,
      "outputs": [
        {
          "output_type": "stream",
          "text": [
            "-0.95\n"
          ],
          "name": "stdout"
        }
      ]
    },
    {
      "cell_type": "code",
      "metadata": {
        "id": "DOy7JgyuJYLi",
        "colab_type": "code",
        "colab": {
          "base_uri": "https://localhost:8080/",
          "height": 269
        },
        "outputId": "4afb7a08-5f91-40aa-9227-0686b7db02e8"
      },
      "source": [
        "plt.scatter(X_test.iloc[:, 0], X_test.iloc[:, 1], c=test_pred.ravel())\n",
        "\n",
        "ax = plt.gca()\n",
        "\n",
        "xvals = np.array(ax.get_xlim()).reshape(-1, 1)\n",
        "yvals = -(xvals * Weight[0][0] + Bias) / Weight[1][0]\n",
        "\n",
        "plt.plot(xvals, yvals)\n",
        "plt.ylim(-1, 3)\n",
        "\n",
        "plt.show()"
      ],
      "execution_count": null,
      "outputs": [
        {
          "output_type": "display_data",
          "data": {
            "image/png": "[encoded data removed]",
            "text/plain": [
              "<Figure size 432x288 with 1 Axes>"
            ]
          },
          "metadata": {
            "tags": [],
            "needs_background": "light"
          }
        }
      ]
    }
  ]
}